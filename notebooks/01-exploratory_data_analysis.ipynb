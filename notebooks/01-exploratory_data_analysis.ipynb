{
 "cells": [
  {
   "cell_type": "markdown",
   "metadata": {
    "tags": []
   },
   "source": [
    "# Análise exploratória de dados"
   ]
  },
  {
   "cell_type": "code",
   "execution_count": 2,
   "metadata": {
    "tags": []
   },
   "outputs": [],
   "source": [
    "import pandas as pd\n",
    "import matplotlib.pyplot as plt\n",
    "import seaborn as sns\n",
    "import csv"
   ]
  },
  {
   "cell_type": "markdown",
   "metadata": {
    "tags": []
   },
   "source": [
    "## 1. Coleta de Dados"
   ]
  },
  {
   "cell_type": "code",
   "execution_count": 3,
   "metadata": {
    "tags": []
   },
   "outputs": [
    {
     "name": "stdout",
     "output_type": "stream",
     "text": [
      "['Size (cm)', 'Weight (g)', 'Brix (Sweetness)', 'pH (Acidity)', 'Softness (1-5)', 'HarvestTime (days)', 'Ripeness (1-5)', 'Color', 'Variety', 'Blemishes (Y/N)', 'Quality (1-5)']\n"
     ]
    }
   ],
   "source": [
    "CAMINHO_CSV = '../data/raw/Orange_Quality_Data.csv'\n",
    "with open(CAMINHO_CSV, 'r') as arquivo:\n",
    "    leitor = csv.reader(arquivo)\n",
    "    print(next(leitor))"
   ]
  },
  {
   "cell_type": "code",
   "execution_count": 4,
   "metadata": {},
   "outputs": [],
   "source": [
    "df = pd.read_csv(CAMINHO_CSV)"
   ]
  },
  {
   "cell_type": "code",
   "execution_count": 5,
   "metadata": {
    "tags": []
   },
   "outputs": [
    {
     "data": {
      "text/html": [
       "<div>\n",
       "<style scoped>\n",
       "    .dataframe tbody tr th:only-of-type {\n",
       "        vertical-align: middle;\n",
       "    }\n",
       "\n",
       "    .dataframe tbody tr th {\n",
       "        vertical-align: top;\n",
       "    }\n",
       "\n",
       "    .dataframe thead th {\n",
       "        text-align: right;\n",
       "    }\n",
       "</style>\n",
       "<table border=\"1\" class=\"dataframe\">\n",
       "  <thead>\n",
       "    <tr style=\"text-align: right;\">\n",
       "      <th></th>\n",
       "      <th>Size (cm)</th>\n",
       "      <th>Weight (g)</th>\n",
       "      <th>Brix (Sweetness)</th>\n",
       "      <th>pH (Acidity)</th>\n",
       "      <th>Softness (1-5)</th>\n",
       "      <th>HarvestTime (days)</th>\n",
       "      <th>Ripeness (1-5)</th>\n",
       "      <th>Color</th>\n",
       "      <th>Variety</th>\n",
       "      <th>Blemishes (Y/N)</th>\n",
       "      <th>Quality (1-5)</th>\n",
       "    </tr>\n",
       "  </thead>\n",
       "  <tbody>\n",
       "    <tr>\n",
       "      <th>0</th>\n",
       "      <td>7.5</td>\n",
       "      <td>180</td>\n",
       "      <td>12.0</td>\n",
       "      <td>3.2</td>\n",
       "      <td>2.0</td>\n",
       "      <td>10</td>\n",
       "      <td>4.0</td>\n",
       "      <td>Orange</td>\n",
       "      <td>Valencia</td>\n",
       "      <td>N</td>\n",
       "      <td>4.0</td>\n",
       "    </tr>\n",
       "    <tr>\n",
       "      <th>1</th>\n",
       "      <td>8.2</td>\n",
       "      <td>220</td>\n",
       "      <td>10.5</td>\n",
       "      <td>3.4</td>\n",
       "      <td>3.0</td>\n",
       "      <td>14</td>\n",
       "      <td>4.5</td>\n",
       "      <td>Deep Orange</td>\n",
       "      <td>Navel</td>\n",
       "      <td>N</td>\n",
       "      <td>4.5</td>\n",
       "    </tr>\n",
       "    <tr>\n",
       "      <th>2</th>\n",
       "      <td>6.8</td>\n",
       "      <td>150</td>\n",
       "      <td>14.0</td>\n",
       "      <td>3.0</td>\n",
       "      <td>1.0</td>\n",
       "      <td>7</td>\n",
       "      <td>5.0</td>\n",
       "      <td>Light Orange</td>\n",
       "      <td>Cara Cara</td>\n",
       "      <td>N</td>\n",
       "      <td>5.0</td>\n",
       "    </tr>\n",
       "    <tr>\n",
       "      <th>3</th>\n",
       "      <td>9.0</td>\n",
       "      <td>250</td>\n",
       "      <td>8.5</td>\n",
       "      <td>3.8</td>\n",
       "      <td>4.0</td>\n",
       "      <td>21</td>\n",
       "      <td>3.5</td>\n",
       "      <td>Orange-Red</td>\n",
       "      <td>Blood Orange</td>\n",
       "      <td>N</td>\n",
       "      <td>3.5</td>\n",
       "    </tr>\n",
       "    <tr>\n",
       "      <th>4</th>\n",
       "      <td>8.5</td>\n",
       "      <td>210</td>\n",
       "      <td>11.5</td>\n",
       "      <td>3.3</td>\n",
       "      <td>2.5</td>\n",
       "      <td>12</td>\n",
       "      <td>5.0</td>\n",
       "      <td>Orange</td>\n",
       "      <td>Hamlin</td>\n",
       "      <td>Y (Minor)</td>\n",
       "      <td>4.5</td>\n",
       "    </tr>\n",
       "  </tbody>\n",
       "</table>\n",
       "</div>"
      ],
      "text/plain": [
       "   Size (cm)  Weight (g)  Brix (Sweetness)  pH (Acidity)  Softness (1-5)  \\\n",
       "0        7.5         180              12.0           3.2             2.0   \n",
       "1        8.2         220              10.5           3.4             3.0   \n",
       "2        6.8         150              14.0           3.0             1.0   \n",
       "3        9.0         250               8.5           3.8             4.0   \n",
       "4        8.5         210              11.5           3.3             2.5   \n",
       "\n",
       "   HarvestTime (days)  Ripeness (1-5)         Color       Variety  \\\n",
       "0                  10             4.0        Orange      Valencia   \n",
       "1                  14             4.5   Deep Orange         Navel   \n",
       "2                   7             5.0  Light Orange     Cara Cara   \n",
       "3                  21             3.5    Orange-Red  Blood Orange   \n",
       "4                  12             5.0        Orange        Hamlin   \n",
       "\n",
       "  Blemishes (Y/N)  Quality (1-5)  \n",
       "0               N            4.0  \n",
       "1               N            4.5  \n",
       "2               N            5.0  \n",
       "3               N            3.5  \n",
       "4       Y (Minor)            4.5  "
      ]
     },
     "execution_count": 5,
     "metadata": {},
     "output_type": "execute_result"
    }
   ],
   "source": [
    "df.head()"
   ]
  },
  {
   "cell_type": "markdown",
   "metadata": {},
   "source": [
    "# 2. Descrição dos Dados"
   ]
  },
  {
   "cell_type": "markdown",
   "metadata": {},
   "source": [
    "### O conjunto de dados tabular contém atributos numéricos que descrevem a qualidade das laranjas, incluindo tamanho, peso, doçura (Brix), acidez (pH), maciez, época de colheita e maturação, bem como atributos categóricos como cor, variedade, presença de manchas. e qualidade geral.\n",
    "#### Adicionar mais informação?"
   ]
  },
  {
   "cell_type": "markdown",
   "metadata": {},
   "source": [
    "## 2.1 Dicionario de Dados"
   ]
  },
  {
   "cell_type": "code",
   "execution_count": 12,
   "metadata": {},
   "outputs": [
    {
     "data": {
      "text/html": [
       "<div>\n",
       "<style scoped>\n",
       "    .dataframe tbody tr th:only-of-type {\n",
       "        vertical-align: middle;\n",
       "    }\n",
       "\n",
       "    .dataframe tbody tr th {\n",
       "        vertical-align: top;\n",
       "    }\n",
       "\n",
       "    .dataframe thead th {\n",
       "        text-align: right;\n",
       "    }\n",
       "</style>\n",
       "<table border=\"1\" class=\"dataframe\">\n",
       "  <thead>\n",
       "    <tr style=\"text-align: right;\">\n",
       "      <th></th>\n",
       "      <th>variavel</th>\n",
       "      <th>descricao</th>\n",
       "      <th>tipo</th>\n",
       "      <th>subtipo</th>\n",
       "    </tr>\n",
       "  </thead>\n",
       "  <tbody>\n",
       "    <tr>\n",
       "      <th>0</th>\n",
       "      <td>Size</td>\n",
       "      <td>Tamanho  da fruta(cm)</td>\n",
       "      <td>quantitativa</td>\n",
       "      <td>continua</td>\n",
       "    </tr>\n",
       "    <tr>\n",
       "      <th>1</th>\n",
       "      <td>Weigth</td>\n",
       "      <td>Peso</td>\n",
       "      <td>quantitativa</td>\n",
       "      <td>continua</td>\n",
       "    </tr>\n",
       "    <tr>\n",
       "      <th>2</th>\n",
       "      <td>Brix</td>\n",
       "      <td>Nível de doçura em Brix</td>\n",
       "      <td>quantitativa</td>\n",
       "      <td>continua</td>\n",
       "    </tr>\n",
       "    <tr>\n",
       "      <th>3</th>\n",
       "      <td>pH</td>\n",
       "      <td>Nível de acidez (pH)</td>\n",
       "      <td>quantitativa</td>\n",
       "      <td>continua</td>\n",
       "    </tr>\n",
       "    <tr>\n",
       "      <th>4</th>\n",
       "      <td>Softness</td>\n",
       "      <td>Classificação de suavidade (1-5)</td>\n",
       "      <td>quantitativa</td>\n",
       "      <td>continua</td>\n",
       "    </tr>\n",
       "    <tr>\n",
       "      <th>5</th>\n",
       "      <td>HarvestTime</td>\n",
       "      <td>Dias desde a colheita</td>\n",
       "      <td>quantitativa</td>\n",
       "      <td>nominal</td>\n",
       "    </tr>\n",
       "    <tr>\n",
       "      <th>6</th>\n",
       "      <td>Ripeness</td>\n",
       "      <td>Maturação</td>\n",
       "      <td>quantitativa</td>\n",
       "      <td>discreta</td>\n",
       "    </tr>\n",
       "    <tr>\n",
       "      <th>7</th>\n",
       "      <td>Color</td>\n",
       "      <td>Cor da fruta</td>\n",
       "      <td>qualitativa</td>\n",
       "      <td>nominal</td>\n",
       "    </tr>\n",
       "    <tr>\n",
       "      <th>8</th>\n",
       "      <td>Variety</td>\n",
       "      <td>Variedade Laranja</td>\n",
       "      <td>qualitativa</td>\n",
       "      <td>nominal</td>\n",
       "    </tr>\n",
       "    <tr>\n",
       "      <th>9</th>\n",
       "      <td>Blemishes</td>\n",
       "      <td>Presença de manchas</td>\n",
       "      <td>qualitativa</td>\n",
       "      <td>booleano</td>\n",
       "    </tr>\n",
       "    <tr>\n",
       "      <th>10</th>\n",
       "      <td>Quality</td>\n",
       "      <td>Qualidade geral da fruta</td>\n",
       "      <td>quantitativa</td>\n",
       "      <td>discreta</td>\n",
       "    </tr>\n",
       "  </tbody>\n",
       "</table>\n",
       "</div>"
      ],
      "text/plain": [
       "       variavel                         descricao          tipo   subtipo\n",
       "0          Size             Tamanho  da fruta(cm)  quantitativa  continua\n",
       "1        Weigth                              Peso  quantitativa  continua\n",
       "2          Brix           Nível de doçura em Brix  quantitativa  continua\n",
       "3            pH              Nível de acidez (pH)  quantitativa  continua\n",
       "4      Softness  Classificação de suavidade (1-5)  quantitativa  continua\n",
       "5   HarvestTime             Dias desde a colheita  quantitativa   nominal\n",
       "6      Ripeness                         Maturação  quantitativa  discreta\n",
       "7         Color                      Cor da fruta   qualitativa   nominal\n",
       "8       Variety                 Variedade Laranja   qualitativa   nominal\n",
       "9     Blemishes               Presença de manchas   qualitativa  booleano\n",
       "10      Quality          Qualidade geral da fruta  quantitativa  discreta"
      ]
     },
     "execution_count": 12,
     "metadata": {},
     "output_type": "execute_result"
    }
   ],
   "source": [
    "dicionario = pd.DataFrame([\n",
    "    {\n",
    "        \"variavel\": \"Size\",\n",
    "        \"descricao\": \"Tamanho  da fruta(cm)\",\n",
    "        \"tipo\":\"quantitativa\",\n",
    "        \"subtipo\":\"continua\"\n",
    "    },{\n",
    "        \"variavel\": \"Weigth\",\n",
    "        \"descricao\": \"Peso\",\n",
    "        \"tipo\":\"quantitativa\",\n",
    "        \"subtipo\":\"continua\"\n",
    "    },{\n",
    "        \"variavel\": \"Brix\",\n",
    "        \"descricao\": \"Nível de doçura em Brix\",\n",
    "        \"tipo\":\"quantitativa\",\n",
    "        \"subtipo\":\"continua\"\n",
    "    },{\n",
    "        \"variavel\": \"pH\",\n",
    "        \"descricao\": \"Nível de acidez (pH)\",\n",
    "        \"tipo\":\"quantitativa\",\n",
    "        \"subtipo\":\"continua\"\n",
    "    },{\n",
    "        \"variavel\": \"Softness\",\n",
    "        \"descricao\": \"Classificação de suavidade (1-5)\",\n",
    "        \"tipo\":\"quantitativa\",\n",
    "        \"subtipo\":\"continua\"\n",
    "    },{\n",
    "        \"variavel\": \"HarvestTime\",\n",
    "        \"descricao\": \"Dias desde a colheita\",\n",
    "        \"tipo\":\"quantitativa\",\n",
    "        \"subtipo\":\"nominal\"\n",
    "    },{\n",
    "        \"variavel\": \"Ripeness\",\n",
    "        \"descricao\": \"Maturação\",\n",
    "        \"tipo\":\"quantitativa\",\n",
    "        \"subtipo\":\"discreta\"\n",
    "    },{\n",
    "        \"variavel\": \"Color\",\n",
    "        \"descricao\": \"Cor da fruta\",\n",
    "        \"tipo\":\"qualitativa\",\n",
    "        \"subtipo\":\"nominal\"\n",
    "    },{\n",
    "        \"variavel\": \"Variety\",\n",
    "        \"descricao\": \"Variedade Laranja\",\n",
    "        \"tipo\":\"qualitativa\",\n",
    "        \"subtipo\":\"nominal\"\n",
    "    },{\n",
    "        \"variavel\": \"Blemishes\",\n",
    "        \"descricao\": \"Presença de manchas\",\n",
    "        \"tipo\":\"qualitativa\",\n",
    "        \"subtipo\":\"booleano\"\n",
    "    },{\n",
    "        \"variavel\": \"Quality\",\n",
    "        \"descricao\": \"Qualidade geral da fruta\",\n",
    "        \"tipo\":\"quantitativa\",\n",
    "        \"subtipo\":\"discreta\"\n",
    "    }\n",
    "])\n",
    "dicionario.to_csv('../data/external/dictionary.csv', index=False)\n",
    "dicionario"
   ]
  },
  {
   "cell_type": "markdown",
   "metadata": {},
   "source": [
    " - Temos no total 11 variáveis de estudo, sendo 8 quantitativas e 3 qualitativas"
   ]
  },
  {
   "cell_type": "markdown",
   "metadata": {},
   "source": [
    "<hr>"
   ]
  },
  {
   "cell_type": "markdown",
   "metadata": {},
   "source": [
    "<h2>Analise inicial:</h2>\n",
    "<h4>Aqui buscaremos as informações iniciais dos nossos dados, como: </h4> \n",
    "<ul>\n",
    " <li>Características das colunas e das linhas.</li>\n",
    " <li>Valores como média, frequência, mínimos e máximos</li>\n",
    " <li>Valores de exemplo</li>\n",
    "</ul>"
   ]
  },
  {
   "cell_type": "code",
   "execution_count": 13,
   "metadata": {
    "tags": []
   },
   "outputs": [
    {
     "name": "stdout",
     "output_type": "stream",
     "text": [
      "<class 'pandas.core.frame.DataFrame'>\n",
      "RangeIndex: 241 entries, 0 to 240\n",
      "Data columns (total 11 columns):\n",
      " #   Column              Non-Null Count  Dtype  \n",
      "---  ------              --------------  -----  \n",
      " 0   Size (cm)           241 non-null    float64\n",
      " 1   Weight (g)          241 non-null    int64  \n",
      " 2   Brix (Sweetness)    241 non-null    float64\n",
      " 3   pH (Acidity)        241 non-null    float64\n",
      " 4   Softness (1-5)      241 non-null    float64\n",
      " 5   HarvestTime (days)  241 non-null    int64  \n",
      " 6   Ripeness (1-5)      241 non-null    float64\n",
      " 7   Color               241 non-null    object \n",
      " 8   Variety             241 non-null    object \n",
      " 9   Blemishes (Y/N)     241 non-null    object \n",
      " 10  Quality (1-5)       241 non-null    float64\n",
      "dtypes: float64(6), int64(2), object(3)\n",
      "memory usage: 20.8+ KB\n"
     ]
    }
   ],
   "source": [
    "df.info()"
   ]
  },
  {
   "cell_type": "code",
   "execution_count": 9,
   "metadata": {},
   "outputs": [
    {
     "data": {
      "text/html": [
       "<div>\n",
       "<style scoped>\n",
       "    .dataframe tbody tr th:only-of-type {\n",
       "        vertical-align: middle;\n",
       "    }\n",
       "\n",
       "    .dataframe tbody tr th {\n",
       "        vertical-align: top;\n",
       "    }\n",
       "\n",
       "    .dataframe thead th {\n",
       "        text-align: right;\n",
       "    }\n",
       "</style>\n",
       "<table border=\"1\" class=\"dataframe\">\n",
       "  <thead>\n",
       "    <tr style=\"text-align: right;\">\n",
       "      <th></th>\n",
       "      <th>Size (cm)</th>\n",
       "      <th>Weight (g)</th>\n",
       "      <th>Brix (Sweetness)</th>\n",
       "      <th>pH (Acidity)</th>\n",
       "      <th>Softness (1-5)</th>\n",
       "      <th>HarvestTime (days)</th>\n",
       "      <th>Ripeness (1-5)</th>\n",
       "      <th>Color</th>\n",
       "      <th>Variety</th>\n",
       "      <th>Blemishes (Y/N)</th>\n",
       "      <th>Quality (1-5)</th>\n",
       "    </tr>\n",
       "  </thead>\n",
       "  <tbody>\n",
       "    <tr>\n",
       "      <th>count</th>\n",
       "      <td>241.000000</td>\n",
       "      <td>241.000000</td>\n",
       "      <td>241.000000</td>\n",
       "      <td>241.000000</td>\n",
       "      <td>241.000000</td>\n",
       "      <td>241.000000</td>\n",
       "      <td>241.000000</td>\n",
       "      <td>241</td>\n",
       "      <td>241</td>\n",
       "      <td>241</td>\n",
       "      <td>241.000000</td>\n",
       "    </tr>\n",
       "    <tr>\n",
       "      <th>unique</th>\n",
       "      <td>NaN</td>\n",
       "      <td>NaN</td>\n",
       "      <td>NaN</td>\n",
       "      <td>NaN</td>\n",
       "      <td>NaN</td>\n",
       "      <td>NaN</td>\n",
       "      <td>NaN</td>\n",
       "      <td>5</td>\n",
       "      <td>24</td>\n",
       "      <td>12</td>\n",
       "      <td>NaN</td>\n",
       "    </tr>\n",
       "    <tr>\n",
       "      <th>top</th>\n",
       "      <td>NaN</td>\n",
       "      <td>NaN</td>\n",
       "      <td>NaN</td>\n",
       "      <td>NaN</td>\n",
       "      <td>NaN</td>\n",
       "      <td>NaN</td>\n",
       "      <td>NaN</td>\n",
       "      <td>Deep Orange</td>\n",
       "      <td>Cara Cara</td>\n",
       "      <td>N</td>\n",
       "      <td>NaN</td>\n",
       "    </tr>\n",
       "    <tr>\n",
       "      <th>freq</th>\n",
       "      <td>NaN</td>\n",
       "      <td>NaN</td>\n",
       "      <td>NaN</td>\n",
       "      <td>NaN</td>\n",
       "      <td>NaN</td>\n",
       "      <td>NaN</td>\n",
       "      <td>NaN</td>\n",
       "      <td>75</td>\n",
       "      <td>21</td>\n",
       "      <td>149</td>\n",
       "      <td>NaN</td>\n",
       "    </tr>\n",
       "    <tr>\n",
       "      <th>mean</th>\n",
       "      <td>7.844813</td>\n",
       "      <td>205.128631</td>\n",
       "      <td>10.907884</td>\n",
       "      <td>3.473900</td>\n",
       "      <td>3.072614</td>\n",
       "      <td>15.344398</td>\n",
       "      <td>3.599585</td>\n",
       "      <td>NaN</td>\n",
       "      <td>NaN</td>\n",
       "      <td>NaN</td>\n",
       "      <td>3.817427</td>\n",
       "    </tr>\n",
       "    <tr>\n",
       "      <th>std</th>\n",
       "      <td>1.086002</td>\n",
       "      <td>56.461012</td>\n",
       "      <td>2.760446</td>\n",
       "      <td>0.421007</td>\n",
       "      <td>1.323630</td>\n",
       "      <td>5.323852</td>\n",
       "      <td>1.205214</td>\n",
       "      <td>NaN</td>\n",
       "      <td>NaN</td>\n",
       "      <td>NaN</td>\n",
       "      <td>1.014410</td>\n",
       "    </tr>\n",
       "    <tr>\n",
       "      <th>min</th>\n",
       "      <td>6.000000</td>\n",
       "      <td>100.000000</td>\n",
       "      <td>5.500000</td>\n",
       "      <td>2.800000</td>\n",
       "      <td>1.000000</td>\n",
       "      <td>4.000000</td>\n",
       "      <td>1.000000</td>\n",
       "      <td>NaN</td>\n",
       "      <td>NaN</td>\n",
       "      <td>NaN</td>\n",
       "      <td>1.000000</td>\n",
       "    </tr>\n",
       "    <tr>\n",
       "      <th>25%</th>\n",
       "      <td>6.900000</td>\n",
       "      <td>155.000000</td>\n",
       "      <td>8.500000</td>\n",
       "      <td>3.200000</td>\n",
       "      <td>2.000000</td>\n",
       "      <td>11.000000</td>\n",
       "      <td>3.000000</td>\n",
       "      <td>NaN</td>\n",
       "      <td>NaN</td>\n",
       "      <td>NaN</td>\n",
       "      <td>3.000000</td>\n",
       "    </tr>\n",
       "    <tr>\n",
       "      <th>50%</th>\n",
       "      <td>7.800000</td>\n",
       "      <td>205.000000</td>\n",
       "      <td>11.000000</td>\n",
       "      <td>3.400000</td>\n",
       "      <td>3.000000</td>\n",
       "      <td>15.000000</td>\n",
       "      <td>4.000000</td>\n",
       "      <td>NaN</td>\n",
       "      <td>NaN</td>\n",
       "      <td>NaN</td>\n",
       "      <td>4.000000</td>\n",
       "    </tr>\n",
       "    <tr>\n",
       "      <th>75%</th>\n",
       "      <td>8.700000</td>\n",
       "      <td>252.000000</td>\n",
       "      <td>13.400000</td>\n",
       "      <td>3.800000</td>\n",
       "      <td>4.000000</td>\n",
       "      <td>20.000000</td>\n",
       "      <td>4.500000</td>\n",
       "      <td>NaN</td>\n",
       "      <td>NaN</td>\n",
       "      <td>NaN</td>\n",
       "      <td>4.500000</td>\n",
       "    </tr>\n",
       "    <tr>\n",
       "      <th>max</th>\n",
       "      <td>10.000000</td>\n",
       "      <td>300.000000</td>\n",
       "      <td>16.000000</td>\n",
       "      <td>4.400000</td>\n",
       "      <td>5.000000</td>\n",
       "      <td>25.000000</td>\n",
       "      <td>5.000000</td>\n",
       "      <td>NaN</td>\n",
       "      <td>NaN</td>\n",
       "      <td>NaN</td>\n",
       "      <td>5.000000</td>\n",
       "    </tr>\n",
       "  </tbody>\n",
       "</table>\n",
       "</div>"
      ],
      "text/plain": [
       "         Size (cm)  Weight (g)  Brix (Sweetness)  pH (Acidity)  \\\n",
       "count   241.000000  241.000000        241.000000    241.000000   \n",
       "unique         NaN         NaN               NaN           NaN   \n",
       "top            NaN         NaN               NaN           NaN   \n",
       "freq           NaN         NaN               NaN           NaN   \n",
       "mean      7.844813  205.128631         10.907884      3.473900   \n",
       "std       1.086002   56.461012          2.760446      0.421007   \n",
       "min       6.000000  100.000000          5.500000      2.800000   \n",
       "25%       6.900000  155.000000          8.500000      3.200000   \n",
       "50%       7.800000  205.000000         11.000000      3.400000   \n",
       "75%       8.700000  252.000000         13.400000      3.800000   \n",
       "max      10.000000  300.000000         16.000000      4.400000   \n",
       "\n",
       "        Softness (1-5)  HarvestTime (days)  Ripeness (1-5)        Color  \\\n",
       "count       241.000000          241.000000      241.000000          241   \n",
       "unique             NaN                 NaN             NaN            5   \n",
       "top                NaN                 NaN             NaN  Deep Orange   \n",
       "freq               NaN                 NaN             NaN           75   \n",
       "mean          3.072614           15.344398        3.599585          NaN   \n",
       "std           1.323630            5.323852        1.205214          NaN   \n",
       "min           1.000000            4.000000        1.000000          NaN   \n",
       "25%           2.000000           11.000000        3.000000          NaN   \n",
       "50%           3.000000           15.000000        4.000000          NaN   \n",
       "75%           4.000000           20.000000        4.500000          NaN   \n",
       "max           5.000000           25.000000        5.000000          NaN   \n",
       "\n",
       "          Variety Blemishes (Y/N)  Quality (1-5)  \n",
       "count         241             241     241.000000  \n",
       "unique         24              12            NaN  \n",
       "top     Cara Cara               N            NaN  \n",
       "freq           21             149            NaN  \n",
       "mean          NaN             NaN       3.817427  \n",
       "std           NaN             NaN       1.014410  \n",
       "min           NaN             NaN       1.000000  \n",
       "25%           NaN             NaN       3.000000  \n",
       "50%           NaN             NaN       4.000000  \n",
       "75%           NaN             NaN       4.500000  \n",
       "max           NaN             NaN       5.000000  "
      ]
     },
     "execution_count": 9,
     "metadata": {},
     "output_type": "execute_result"
    }
   ],
   "source": [
    "df.describe()"
   ]
  },
  {
   "cell_type": "code",
   "execution_count": 14,
   "metadata": {},
   "outputs": [
    {
     "name": "stdout",
     "output_type": "stream",
     "text": [
      "Nossa tabela possui: (241, 11)\n"
     ]
    }
   ],
   "source": [
    "print( f'Nossa tabela possui: {df.shape}')"
   ]
  },
  {
   "cell_type": "markdown",
   "metadata": {},
   "source": [
    "<hr>"
   ]
  },
  {
   "cell_type": "markdown",
   "metadata": {},
   "source": [
    "## Analise estátistica:"
   ]
  },
  {
   "cell_type": "markdown",
   "metadata": {},
   "source": [
    "- Mediana e Desvio Padrão:\n",
    "    A mediana é uma medida de tendência central que representa o valor no centro de um conjunto de dados quando eles são ordenados em ordem crescente ou decrescente. Ao contrário da média, a mediana não é influenciada por valores extremos, tornando-se uma medida confiável da posição central dos dados.\n",
    "    O desvio padrão é a medida do quão distante estão os valores da média."
   ]
  },
  {
   "cell_type": "code",
   "execution_count": 35,
   "metadata": {},
   "outputs": [
    {
     "name": "stdout",
     "output_type": "stream",
     "text": [
      "Media:3.8174273858921164 \n",
      " Mediana: 4.0 \n",
      " Desvio padrão: 1.01441034797572\n",
      "90% das laranjas possuem qualidade até 4.5\n"
     ]
    }
   ],
   "source": [
    "Mediana = df['Quality (1-5)'].median()\n",
    "Media = df['Quality (1-5)'].mean()\n",
    "Percenti = df['Quality (1-5)'].quantile(q=0.75)\n",
    "desvio_padrao = df['Quality (1-5)'].std()\n",
    "print(f'Media:{Media} \\n Mediana: {Mediana} \\n Desvio padrão: {desvio_padrao}')\n",
    "print(f'90% das laranjas possuem qualidade até {Percenti}')"
   ]
  },
  {
   "cell_type": "markdown",
   "metadata": {},
   "source": [
    "<hr>"
   ]
  },
  {
   "cell_type": "code",
   "execution_count": 7,
   "metadata": {
    "tags": []
   },
   "outputs": [
    {
     "data": {
      "text/html": [
       "<div>\n",
       "<style scoped>\n",
       "    .dataframe tbody tr th:only-of-type {\n",
       "        vertical-align: middle;\n",
       "    }\n",
       "\n",
       "    .dataframe tbody tr th {\n",
       "        vertical-align: top;\n",
       "    }\n",
       "\n",
       "    .dataframe thead th {\n",
       "        text-align: right;\n",
       "    }\n",
       "</style>\n",
       "<table border=\"1\" class=\"dataframe\">\n",
       "  <thead>\n",
       "    <tr style=\"text-align: right;\">\n",
       "      <th></th>\n",
       "      <th>Ripeness (1-5)</th>\n",
       "      <th>Brix (Sweetness)</th>\n",
       "    </tr>\n",
       "  </thead>\n",
       "  <tbody>\n",
       "    <tr>\n",
       "      <th>2</th>\n",
       "      <td>5.0</td>\n",
       "      <td>14.0</td>\n",
       "    </tr>\n",
       "    <tr>\n",
       "      <th>7</th>\n",
       "      <td>4.5</td>\n",
       "      <td>13.5</td>\n",
       "    </tr>\n",
       "    <tr>\n",
       "      <th>11</th>\n",
       "      <td>3.0</td>\n",
       "      <td>14.8</td>\n",
       "    </tr>\n",
       "    <tr>\n",
       "      <th>15</th>\n",
       "      <td>5.0</td>\n",
       "      <td>14.5</td>\n",
       "    </tr>\n",
       "    <tr>\n",
       "      <th>17</th>\n",
       "      <td>1.0</td>\n",
       "      <td>14.1</td>\n",
       "    </tr>\n",
       "    <tr>\n",
       "      <th>...</th>\n",
       "      <td>...</td>\n",
       "      <td>...</td>\n",
       "    </tr>\n",
       "    <tr>\n",
       "      <th>224</th>\n",
       "      <td>5.0</td>\n",
       "      <td>13.0</td>\n",
       "    </tr>\n",
       "    <tr>\n",
       "      <th>225</th>\n",
       "      <td>3.0</td>\n",
       "      <td>14.6</td>\n",
       "    </tr>\n",
       "    <tr>\n",
       "      <th>226</th>\n",
       "      <td>2.0</td>\n",
       "      <td>14.5</td>\n",
       "    </tr>\n",
       "    <tr>\n",
       "      <th>230</th>\n",
       "      <td>2.0</td>\n",
       "      <td>15.6</td>\n",
       "    </tr>\n",
       "    <tr>\n",
       "      <th>238</th>\n",
       "      <td>3.0</td>\n",
       "      <td>15.7</td>\n",
       "    </tr>\n",
       "  </tbody>\n",
       "</table>\n",
       "<p>70 rows × 2 columns</p>\n",
       "</div>"
      ],
      "text/plain": [
       "     Ripeness (1-5)  Brix (Sweetness)\n",
       "2               5.0              14.0\n",
       "7               4.5              13.5\n",
       "11              3.0              14.8\n",
       "15              5.0              14.5\n",
       "17              1.0              14.1\n",
       "..              ...               ...\n",
       "224             5.0              13.0\n",
       "225             3.0              14.6\n",
       "226             2.0              14.5\n",
       "230             2.0              15.6\n",
       "238             3.0              15.7\n",
       "\n",
       "[70 rows x 2 columns]"
      ]
     },
     "metadata": {},
     "output_type": "display_data"
    }
   ],
   "source": [
    "brix = df.loc[df['Brix (Sweetness)'] >= 13,['Ripeness (1-5)', 'Brix (Sweetness)']]\n",
    "display(brix)"
   ]
  },
  {
   "cell_type": "markdown",
   "metadata": {},
   "source": [
    "# Filtragem dos dados: Busca por valores nulos"
   ]
  },
  {
   "cell_type": "code",
   "execution_count": 8,
   "metadata": {},
   "outputs": [
    {
     "data": {
      "text/plain": [
       "Size (cm)             0\n",
       "Weight (g)            0\n",
       "Brix (Sweetness)      0\n",
       "pH (Acidity)          0\n",
       "Softness (1-5)        0\n",
       "HarvestTime (days)    0\n",
       "Ripeness (1-5)        0\n",
       "Color                 0\n",
       "Variety               0\n",
       "Blemishes (Y/N)       0\n",
       "Quality (1-5)         0\n",
       "dtype: int64"
      ]
     },
     "execution_count": 8,
     "metadata": {},
     "output_type": "execute_result"
    }
   ],
   "source": [
    "df.isnull().sum()"
   ]
  },
  {
   "cell_type": "markdown",
   "metadata": {},
   "source": [
    "## Analise sobre a variedade das laranjas"
   ]
  },
  {
   "cell_type": "code",
   "execution_count": 5,
   "metadata": {
    "tags": []
   },
   "outputs": [
    {
     "name": "stdout",
     "output_type": "stream",
     "text": [
      "Valores diferentes dentro da variável: 24\n"
     ]
    }
   ],
   "source": [
    "quantidade_valores_unicos = df['Variety'].nunique()\n",
    "print('Valores diferentes dentro da variável:', quantidade_valores_unicos)"
   ]
  },
  {
   "cell_type": "code",
   "execution_count": 6,
   "metadata": {
    "tags": []
   },
   "outputs": [
    {
     "name": "stdout",
     "output_type": "stream",
     "text": [
      "Valores diferentes dentro da variavel: 24\n"
     ]
    },
    {
     "data": {
      "text/plain": [
       "'Os valores:'"
      ]
     },
     "metadata": {},
     "output_type": "display_data"
    },
    {
     "data": {
      "text/plain": [
       "array(['Valencia', 'Navel', 'Cara Cara', 'Blood Orange', 'Hamlin',\n",
       "       'Tangelo (Hybrid)', 'Murcott (Hybrid)', 'Moro (Blood)', 'Jaffa',\n",
       "       'Clementine', 'Washington Navel', 'Star Ruby', 'Tangerine',\n",
       "       'Ambiance', 'California Valencia', 'Honey Tangerine',\n",
       "       'Navel (Late Season)', 'Clementine (Seedless)', 'Temple',\n",
       "       'Minneola (Hybrid)', 'Satsuma Mandarin', 'Midsweet (Hybrid)',\n",
       "       'Navel (Early Season)', 'Ortanique (Hybrid)'], dtype=object)"
      ]
     },
     "metadata": {},
     "output_type": "display_data"
    }
   ],
   "source": [
    "valores_unicos = df['Variety'].unique()\n",
    "quantidade_valores_unicos = len(valores_unicos)\n",
    "print(\"Valores diferentes dentro da variavel:\", quantidade_valores_unicos)\n",
    "display(\"Os valores:\", valores_unicos)"
   ]
  },
  {
   "cell_type": "code",
   "execution_count": 7,
   "metadata": {},
   "outputs": [],
   "source": [
    "mapeamento = {\n",
    "    'Valencia' : 1,\n",
    "    'Navel' : 2,\n",
    "    'Cara Cara' : 3,\n",
    "    'Blood Orange': 4,\n",
    "    'Hamlin' : 5,\n",
    "    'Tangelo (Hybrid)' : 6,\n",
    "    'Murcott (Hybrid)' : 7,\n",
    "    'Moro (Blood)' : 8,\n",
    "    'Jaffa' : 9,\n",
    "    'Clementine' : 10,\n",
    "    'Washington Navel': 11,\n",
    "    'Star Ruby' : 12,\n",
    "    'Tangerine' : 13,\n",
    "    'Ambiance' : 14,\n",
    "    'California Valencia' : 15,\n",
    "    'Honey Tangerine' : 16,\n",
    "    'Navel (Late Season)' : 17,\n",
    "    'Clementine (Seedless)' : 18,\n",
    "    'Temple' : 19,\n",
    "    'Minneola (Hybrid)' : 20,\n",
    "    'Satsuma Mandarin' : 21,\n",
    "    'Midsweet (Hybrid)' : 22,\n",
    "    'Navel (Early Season)' : 23,\n",
    "    'Ortanique (Hybrid)': 24,\n",
    "}"
   ]
  },
  {
   "cell_type": "code",
   "execution_count": 8,
   "metadata": {
    "scrolled": true,
    "tags": []
   },
   "outputs": [
    {
     "data": {
      "text/html": [
       "<div>\n",
       "<style scoped>\n",
       "    .dataframe tbody tr th:only-of-type {\n",
       "        vertical-align: middle;\n",
       "    }\n",
       "\n",
       "    .dataframe tbody tr th {\n",
       "        vertical-align: top;\n",
       "    }\n",
       "\n",
       "    .dataframe thead th {\n",
       "        text-align: right;\n",
       "    }\n",
       "</style>\n",
       "<table border=\"1\" class=\"dataframe\">\n",
       "  <thead>\n",
       "    <tr style=\"text-align: right;\">\n",
       "      <th></th>\n",
       "      <th>Size (cm)</th>\n",
       "      <th>Weight (g)</th>\n",
       "      <th>Brix (Sweetness)</th>\n",
       "      <th>pH (Acidity)</th>\n",
       "      <th>Softness (1-5)</th>\n",
       "      <th>HarvestTime (days)</th>\n",
       "      <th>Ripeness (1-5)</th>\n",
       "      <th>Color</th>\n",
       "      <th>Variety</th>\n",
       "      <th>Blemishes (Y/N)</th>\n",
       "      <th>Quality (1-5)</th>\n",
       "      <th>Índice Variety</th>\n",
       "    </tr>\n",
       "  </thead>\n",
       "  <tbody>\n",
       "    <tr>\n",
       "      <th>0</th>\n",
       "      <td>7.5</td>\n",
       "      <td>180</td>\n",
       "      <td>12.0</td>\n",
       "      <td>3.2</td>\n",
       "      <td>2.0</td>\n",
       "      <td>10</td>\n",
       "      <td>4.0</td>\n",
       "      <td>Orange</td>\n",
       "      <td>Valencia</td>\n",
       "      <td>N</td>\n",
       "      <td>4.0</td>\n",
       "      <td>1</td>\n",
       "    </tr>\n",
       "    <tr>\n",
       "      <th>1</th>\n",
       "      <td>8.2</td>\n",
       "      <td>220</td>\n",
       "      <td>10.5</td>\n",
       "      <td>3.4</td>\n",
       "      <td>3.0</td>\n",
       "      <td>14</td>\n",
       "      <td>4.5</td>\n",
       "      <td>Deep Orange</td>\n",
       "      <td>Navel</td>\n",
       "      <td>N</td>\n",
       "      <td>4.5</td>\n",
       "      <td>2</td>\n",
       "    </tr>\n",
       "    <tr>\n",
       "      <th>2</th>\n",
       "      <td>6.8</td>\n",
       "      <td>150</td>\n",
       "      <td>14.0</td>\n",
       "      <td>3.0</td>\n",
       "      <td>1.0</td>\n",
       "      <td>7</td>\n",
       "      <td>5.0</td>\n",
       "      <td>Light Orange</td>\n",
       "      <td>Cara Cara</td>\n",
       "      <td>N</td>\n",
       "      <td>5.0</td>\n",
       "      <td>3</td>\n",
       "    </tr>\n",
       "    <tr>\n",
       "      <th>3</th>\n",
       "      <td>9.0</td>\n",
       "      <td>250</td>\n",
       "      <td>8.5</td>\n",
       "      <td>3.8</td>\n",
       "      <td>4.0</td>\n",
       "      <td>21</td>\n",
       "      <td>3.5</td>\n",
       "      <td>Orange-Red</td>\n",
       "      <td>Blood Orange</td>\n",
       "      <td>N</td>\n",
       "      <td>3.5</td>\n",
       "      <td>4</td>\n",
       "    </tr>\n",
       "    <tr>\n",
       "      <th>4</th>\n",
       "      <td>8.5</td>\n",
       "      <td>210</td>\n",
       "      <td>11.5</td>\n",
       "      <td>3.3</td>\n",
       "      <td>2.5</td>\n",
       "      <td>12</td>\n",
       "      <td>5.0</td>\n",
       "      <td>Orange</td>\n",
       "      <td>Hamlin</td>\n",
       "      <td>Y (Minor)</td>\n",
       "      <td>4.5</td>\n",
       "      <td>5</td>\n",
       "    </tr>\n",
       "    <tr>\n",
       "      <th>...</th>\n",
       "      <td>...</td>\n",
       "      <td>...</td>\n",
       "      <td>...</td>\n",
       "      <td>...</td>\n",
       "      <td>...</td>\n",
       "      <td>...</td>\n",
       "      <td>...</td>\n",
       "      <td>...</td>\n",
       "      <td>...</td>\n",
       "      <td>...</td>\n",
       "      <td>...</td>\n",
       "      <td>...</td>\n",
       "    </tr>\n",
       "    <tr>\n",
       "      <th>236</th>\n",
       "      <td>8.0</td>\n",
       "      <td>194</td>\n",
       "      <td>10.9</td>\n",
       "      <td>3.6</td>\n",
       "      <td>5.0</td>\n",
       "      <td>13</td>\n",
       "      <td>1.0</td>\n",
       "      <td>Orange-Red</td>\n",
       "      <td>Tangerine</td>\n",
       "      <td>Y (Scars)</td>\n",
       "      <td>5.0</td>\n",
       "      <td>13</td>\n",
       "    </tr>\n",
       "    <tr>\n",
       "      <th>237</th>\n",
       "      <td>7.4</td>\n",
       "      <td>275</td>\n",
       "      <td>8.5</td>\n",
       "      <td>3.5</td>\n",
       "      <td>5.0</td>\n",
       "      <td>20</td>\n",
       "      <td>5.0</td>\n",
       "      <td>Light Orange</td>\n",
       "      <td>Minneola (Hybrid)</td>\n",
       "      <td>N</td>\n",
       "      <td>4.0</td>\n",
       "      <td>20</td>\n",
       "    </tr>\n",
       "    <tr>\n",
       "      <th>238</th>\n",
       "      <td>7.5</td>\n",
       "      <td>196</td>\n",
       "      <td>15.7</td>\n",
       "      <td>3.0</td>\n",
       "      <td>3.0</td>\n",
       "      <td>13</td>\n",
       "      <td>3.0</td>\n",
       "      <td>Deep Orange</td>\n",
       "      <td>Temple</td>\n",
       "      <td>Y (Minor Insect Damage)</td>\n",
       "      <td>5.0</td>\n",
       "      <td>19</td>\n",
       "    </tr>\n",
       "    <tr>\n",
       "      <th>239</th>\n",
       "      <td>7.2</td>\n",
       "      <td>251</td>\n",
       "      <td>9.8</td>\n",
       "      <td>4.3</td>\n",
       "      <td>3.0</td>\n",
       "      <td>23</td>\n",
       "      <td>1.0</td>\n",
       "      <td>Light Orange</td>\n",
       "      <td>Moro (Blood)</td>\n",
       "      <td>Y (Minor Insect Damage)</td>\n",
       "      <td>3.0</td>\n",
       "      <td>8</td>\n",
       "    </tr>\n",
       "    <tr>\n",
       "      <th>240</th>\n",
       "      <td>7.3</td>\n",
       "      <td>282</td>\n",
       "      <td>10.5</td>\n",
       "      <td>2.9</td>\n",
       "      <td>4.0</td>\n",
       "      <td>21</td>\n",
       "      <td>2.0</td>\n",
       "      <td>Orange-Red</td>\n",
       "      <td>Jaffa</td>\n",
       "      <td>Y (Minor)</td>\n",
       "      <td>4.0</td>\n",
       "      <td>9</td>\n",
       "    </tr>\n",
       "  </tbody>\n",
       "</table>\n",
       "<p>241 rows × 12 columns</p>\n",
       "</div>"
      ],
      "text/plain": [
       "     Size (cm)  Weight (g)  Brix (Sweetness)  pH (Acidity)  Softness (1-5)  \\\n",
       "0          7.5         180              12.0           3.2             2.0   \n",
       "1          8.2         220              10.5           3.4             3.0   \n",
       "2          6.8         150              14.0           3.0             1.0   \n",
       "3          9.0         250               8.5           3.8             4.0   \n",
       "4          8.5         210              11.5           3.3             2.5   \n",
       "..         ...         ...               ...           ...             ...   \n",
       "236        8.0         194              10.9           3.6             5.0   \n",
       "237        7.4         275               8.5           3.5             5.0   \n",
       "238        7.5         196              15.7           3.0             3.0   \n",
       "239        7.2         251               9.8           4.3             3.0   \n",
       "240        7.3         282              10.5           2.9             4.0   \n",
       "\n",
       "     HarvestTime (days)  Ripeness (1-5)         Color            Variety  \\\n",
       "0                    10             4.0        Orange           Valencia   \n",
       "1                    14             4.5   Deep Orange              Navel   \n",
       "2                     7             5.0  Light Orange          Cara Cara   \n",
       "3                    21             3.5    Orange-Red       Blood Orange   \n",
       "4                    12             5.0        Orange             Hamlin   \n",
       "..                  ...             ...           ...                ...   \n",
       "236                  13             1.0    Orange-Red          Tangerine   \n",
       "237                  20             5.0  Light Orange  Minneola (Hybrid)   \n",
       "238                  13             3.0   Deep Orange             Temple   \n",
       "239                  23             1.0  Light Orange       Moro (Blood)   \n",
       "240                  21             2.0    Orange-Red              Jaffa   \n",
       "\n",
       "             Blemishes (Y/N)  Quality (1-5)  Índice Variety  \n",
       "0                          N            4.0               1  \n",
       "1                          N            4.5               2  \n",
       "2                          N            5.0               3  \n",
       "3                          N            3.5               4  \n",
       "4                  Y (Minor)            4.5               5  \n",
       "..                       ...            ...             ...  \n",
       "236                Y (Scars)            5.0              13  \n",
       "237                        N            4.0              20  \n",
       "238  Y (Minor Insect Damage)            5.0              19  \n",
       "239  Y (Minor Insect Damage)            3.0               8  \n",
       "240                Y (Minor)            4.0               9  \n",
       "\n",
       "[241 rows x 12 columns]"
      ]
     },
     "metadata": {},
     "output_type": "display_data"
    }
   ],
   "source": [
    "df['Índice Variety'] = df['Variety'].map(mapeamento)\n",
    "display(df)"
   ]
  },
  {
   "cell_type": "markdown",
   "metadata": {},
   "source": [
    "## Colocar essa parte la para baixo. seria como um resultado provisorio das analises."
   ]
  },
  {
   "cell_type": "code",
   "execution_count": 18,
   "metadata": {
    "collapsed": true,
    "jupyter": {
     "outputs_hidden": true
    }
   },
   "outputs": [
    {
     "name": "stdout",
     "output_type": "stream",
     "text": [
      "Variedades de Laranja e suas Notas de Qualidade:\n",
      "Valencia: 4.0\n",
      "Navel: 4.5\n",
      "Cara Cara: 5.0\n",
      "Blood Orange: 3.5\n",
      "Hamlin: 4.5\n",
      "Navel: 1.0\n",
      "Tangelo (Hybrid): 4.0\n",
      "Murcott (Hybrid): 4.5\n",
      "Moro (Blood): 3.0\n",
      "Jaffa: 5.0\n",
      "Cara Cara: 2.5\n",
      "Valencia: 4.0\n",
      "Clementine: 4.5\n",
      "Washington Navel: 5.0\n",
      "Star Ruby: 4.0\n",
      "Tangerine: 5.0\n",
      "Ambiance: 3.5\n",
      "Cara Cara: 4.0\n",
      "Clementine: 2.0\n",
      "Jaffa: 4.5\n",
      "Blood Orange: 3.0\n",
      "Murcott (Hybrid): 5.0\n",
      "California Valencia: 4.5\n",
      "Moro (Blood): 2.0\n",
      "Honey Tangerine: 4.5\n",
      "Navel (Late Season): 4.0\n",
      "Clementine (Seedless): 5.0\n",
      "Cara Cara: 4.0\n",
      "Temple: 1.0\n",
      "Cara Cara: 3.0\n",
      "Hamlin: 4.5\n",
      "Minneola (Hybrid): 4.5\n",
      "Temple: 5.0\n",
      "Moro (Blood): 4.0\n",
      "Satsuma Mandarin: 5.0\n",
      "Midsweet (Hybrid): 3.5\n",
      "California Valencia: 5.0\n",
      "Cara Cara: 2.5\n",
      "Navel (Early Season): 4.5\n",
      "Ambiance: 4.0\n",
      "Star Ruby: 4.5\n",
      "Tangerine: 5.0\n",
      "Ortanique (Hybrid): 4.5\n",
      "Washington Navel: 5.0\n",
      "Clementine (Seedless): 5.0\n",
      "Jaffa: 5.0\n",
      "Cara Cara: 4.5\n",
      "Hamlin: 4.5\n",
      "Moro (Blood): 3.0\n",
      "Temple: 5.0\n",
      "Midsweet (Hybrid): 3.5\n",
      "Satsuma Mandarin: 5.0\n",
      "California Valencia: 4.5\n",
      "Cara Cara: 2.0\n",
      "Navel (Early Season): 4.5\n",
      "Ambiance: 4.0\n",
      "Star Ruby: 4.5\n",
      "Tangerine: 5.0\n",
      "Ortanique (Hybrid): 4.5\n",
      "Washington Navel: 5.0\n",
      "Clementine (Seedless): 5.0\n",
      "Cara Cara: 3.0\n",
      "Hamlin: 4.5\n",
      "California Valencia: 5.0\n",
      "Moro (Blood): 4.0\n",
      "Honey Tangerine: 5.0\n",
      "Navel (Late Season): 4.0\n",
      "Minneola (Hybrid): 3.5\n",
      "Cara Cara: 2.5\n",
      "Temple: 5.0\n",
      "Midsweet (Hybrid): 3.5\n",
      "Satsuma Mandarin: 5.0\n",
      "California Valencia: 4.5\n",
      "Washington Navel: 4.5\n",
      "Star Ruby: 3.0\n",
      "Tangerine: 5.0\n",
      "Cara Cara: 3.5\n",
      "Hamlin: 3.0\n",
      "Murcott (Hybrid): 5.0\n",
      "Minneola (Hybrid): 3.5\n",
      "Moro (Blood): 3.0\n",
      "Clementine (Seedless): 5.0\n",
      "Navel (Late Season): 4.0\n",
      "Temple: 5.0\n",
      "Midsweet (Hybrid): 3.5\n",
      "Honey Tangerine: 5.0\n",
      "California Valencia: 4.5\n",
      "Washington Navel: 5.0\n",
      "Ambiance: 4.0\n",
      "Ortanique (Hybrid): 4.5\n",
      "Cara Cara: 2.5\n",
      "Tangerine: 5.0\n",
      "Moro (Blood): 4.0\n",
      "Temple: 5.0\n",
      "California Valencia: 5.0\n",
      "Satsuma Mandarin: 5.0\n",
      "Jaffa: 5.0\n",
      "Midsweet (Hybrid): 3.5\n",
      "Minneola (Hybrid): 4.5\n",
      "Clementine: 4.0\n",
      "Navel: 3.0\n",
      "Honey Tangerine: 5.0\n",
      "Valencia: 2.0\n",
      "Clementine: 4.0\n",
      "Cara Cara: 4.0\n",
      "Jaffa: 2.0\n",
      "Clementine: 3.0\n",
      "Washington Navel: 5.0\n",
      "Star Ruby: 2.0\n",
      "Cara Cara: 4.0\n",
      "Navel: 2.0\n",
      "Navel: 2.0\n",
      "Ambiance: 5.0\n",
      "Ortanique (Hybrid): 4.0\n",
      "Temple: 3.0\n",
      "Navel: 4.0\n",
      "Temple: 3.0\n",
      "Star Ruby: 3.0\n",
      "Cara Cara: 2.0\n",
      "Satsuma Mandarin: 1.0\n",
      "Temple: 2.0\n",
      "Ambiance: 3.0\n",
      "Satsuma Mandarin: 5.0\n",
      "Minneola (Hybrid): 4.0\n",
      "Cara Cara: 4.0\n",
      "Honey Tangerine: 2.0\n",
      "Minneola (Hybrid): 3.0\n",
      "Moro (Blood): 5.0\n",
      "Ortanique (Hybrid): 3.0\n",
      "Ortanique (Hybrid): 4.0\n",
      "Moro (Blood): 2.0\n",
      "Honey Tangerine: 4.0\n",
      "Navel: 5.0\n",
      "Navel: 4.0\n",
      "Star Ruby: 3.0\n",
      "Washington Navel: 4.0\n",
      "Moro (Blood): 3.0\n",
      "Star Ruby: 4.0\n",
      "Ortanique (Hybrid): 4.0\n",
      "Ortanique (Hybrid): 4.0\n",
      "Ambiance: 4.0\n",
      "Clementine: 4.0\n",
      "Temple: 4.0\n",
      "Valencia: 5.0\n",
      "Tangerine: 3.5\n",
      "Washington Navel: 4.0\n",
      "Jaffa: 3.5\n",
      "Washington Navel: 4.0\n",
      "Tangerine: 4.0\n",
      "Temple: 1.0\n",
      "Tangerine: 3.5\n",
      "Valencia: 4.0\n",
      "Moro (Blood): 4.5\n",
      "Navel: 4.0\n",
      "Navel: 4.0\n",
      "Temple: 4.0\n",
      "Clementine: 4.0\n",
      "Washington Navel: 1.0\n",
      "Clementine: 5.0\n",
      "Cara Cara: 4.0\n",
      "Valencia: 4.0\n",
      "Jaffa: 3.5\n",
      "Valencia: 4.0\n",
      "Navel: 4.0\n",
      "Cara Cara: 2.5\n",
      "Satsuma Mandarin: 4.0\n",
      "Star Ruby: 4.0\n",
      "Moro (Blood): 4.0\n",
      "Temple: 4.0\n",
      "Ambiance: 4.0\n",
      "Jaffa: 3.5\n",
      "Ambiance: 4.0\n",
      "Moro (Blood): 4.0\n",
      "Navel: 4.0\n",
      "Temple: 2.5\n",
      "Jaffa: 3.0\n",
      "Valencia: 5.0\n",
      "Clementine: 5.0\n",
      "Tangerine: 3.5\n",
      "Satsuma Mandarin: 3.0\n",
      "Cara Cara: 2.5\n",
      "Ortanique (Hybrid): 4.5\n",
      "Jaffa: 5.0\n",
      "Star Ruby: 4.0\n",
      "Washington Navel: 5.0\n",
      "Washington Navel: 2.5\n",
      "Satsuma Mandarin: 4.0\n",
      "Tangerine: 4.0\n",
      "Honey Tangerine: 4.0\n",
      "Star Ruby: 5.0\n",
      "Satsuma Mandarin: 4.5\n",
      "Star Ruby: 3.5\n",
      "Navel: 4.0\n",
      "Star Ruby: 5.0\n",
      "Star Ruby: 3.5\n",
      "Ortanique (Hybrid): 3.5\n",
      "Satsuma Mandarin: 4.0\n",
      "Temple: 4.0\n",
      "Star Ruby: 3.5\n",
      "Washington Navel: 1.0\n",
      "Clementine: 4.0\n",
      "Tangerine: 4.0\n",
      "Clementine: 2.5\n",
      "Minneola (Hybrid): 2.5\n",
      "Valencia: 4.0\n",
      "Navel: 2.0\n",
      "Ortanique (Hybrid): 4.0\n",
      "Washington Navel: 5.0\n",
      "Temple: 4.0\n",
      "Tangerine: 4.5\n",
      "Clementine: 4.0\n",
      "Minneola (Hybrid): 4.0\n",
      "Minneola (Hybrid): 1.0\n",
      "Ortanique (Hybrid): 4.5\n",
      "Satsuma Mandarin: 3.5\n",
      "Cara Cara: 4.0\n",
      "Valencia: 2.5\n",
      "Ortanique (Hybrid): 4.0\n",
      "Temple: 3.0\n",
      "Star Ruby: 3.5\n",
      "Minneola (Hybrid): 3.0\n",
      "Minneola (Hybrid): 5.0\n",
      "Clementine: 2.5\n",
      "Star Ruby: 2.0\n",
      "Navel: 4.0\n",
      "Ambiance: 4.0\n",
      "Satsuma Mandarin: 3.5\n",
      "Moro (Blood): 3.0\n",
      "Ambiance: 4.0\n",
      "Cara Cara: 1.0\n",
      "Moro (Blood): 5.0\n",
      "Star Ruby: 3.0\n",
      "Navel: 1.0\n",
      "Tangerine: 4.0\n",
      "Clementine: 3.0\n",
      "Valencia: 4.0\n",
      "Tangerine: 5.0\n",
      "Minneola (Hybrid): 4.0\n",
      "Temple: 5.0\n",
      "Moro (Blood): 3.0\n",
      "Jaffa: 4.0\n"
     ]
    }
   ],
   "source": [
    "variedades_qualidade = df[['Variety', 'Quality (1-5)']].values.tolist()\n",
    "\n",
    "print(\"Variedades de Laranja e suas Notas de Qualidade:\")\n",
    "for variedade, qualidade in variedades_qualidade:\n",
    "    print(f\"{variedade}: {qualidade}\")"
   ]
  },
  {
   "cell_type": "code",
   "execution_count": 20,
   "metadata": {
    "collapsed": true,
    "jupyter": {
     "outputs_hidden": true
    }
   },
   "outputs": [
    {
     "name": "stdout",
     "output_type": "stream",
     "text": [
      "Variedades de Laranja e a Média de Qualidade:\n",
      "Ambiance: 3.95\n",
      "Blood Orange: 3.25\n",
      "California Valencia: 4.71\n",
      "Cara Cara: 3.19\n",
      "Clementine: 3.68\n",
      "Clementine (Seedless): 5.00\n",
      "Hamlin: 4.20\n",
      "Honey Tangerine: 4.21\n",
      "Jaffa: 4.00\n",
      "Midsweet (Hybrid): 3.50\n",
      "Minneola (Hybrid): 3.54\n",
      "Moro (Blood): 3.53\n",
      "Murcott (Hybrid): 4.83\n",
      "Navel: 3.28\n",
      "Navel (Early Season): 4.50\n",
      "Navel (Late Season): 4.00\n",
      "Ortanique (Hybrid): 4.08\n",
      "Satsuma Mandarin: 4.04\n",
      "Star Ruby: 3.61\n",
      "Tangelo (Hybrid): 4.00\n",
      "Tangerine: 4.36\n",
      "Temple: 3.64\n",
      "Valencia: 3.86\n",
      "Washington Navel: 4.00\n"
     ]
    }
   ],
   "source": [
    "media_qualidade = df.groupby('Variety')['Quality (1-5)'].mean()\n",
    "print(\"Variedades de Laranja e a Média de Qualidade:\")\n",
    "for variedade, media in media_qualidade.items():\n",
    "    print(f\"{variedade}: {media:.2f}\")\n"
   ]
  },
  {
   "cell_type": "code",
   "execution_count": 23,
   "metadata": {},
   "outputs": [
    {
     "name": "stdout",
     "output_type": "stream",
     "text": [
      "Contagem de Clementine: 4\n"
     ]
    }
   ],
   "source": [
    "contagem_variedades = df['Variety'].value_counts()\n",
    "\n",
    "clementine_count = contagem_variedades['Clementine (Seedless)']\n",
    "\n",
    "print(\"Contagem de Clementine:\", clementine_count)\n"
   ]
  },
  {
   "cell_type": "code",
   "execution_count": 25,
   "metadata": {
    "collapsed": true,
    "jupyter": {
     "outputs_hidden": true
    }
   },
   "outputs": [
    {
     "name": "stdout",
     "output_type": "stream",
     "text": [
      "Contagem de todas as variedades:\n",
      "Variety\n",
      "Cara Cara                21\n",
      "Temple                   18\n",
      "Star Ruby                18\n",
      "Navel                    16\n",
      "Moro (Blood)             16\n",
      "Tangerine                14\n",
      "Clementine               14\n",
      "Washington Navel         14\n",
      "Satsuma Mandarin         13\n",
      "Ortanique (Hybrid)       13\n",
      "Minneola (Hybrid)        12\n",
      "Jaffa                    11\n",
      "Ambiance                 11\n",
      "Valencia                 11\n",
      "California Valencia       7\n",
      "Honey Tangerine           7\n",
      "Hamlin                    5\n",
      "Midsweet (Hybrid)         5\n",
      "Clementine (Seedless)     4\n",
      "Murcott (Hybrid)          3\n",
      "Navel (Late Season)       3\n",
      "Blood Orange              2\n",
      "Navel (Early Season)      2\n",
      "Tangelo (Hybrid)          1\n",
      "Name: count, dtype: int64\n"
     ]
    }
   ],
   "source": [
    "contagem_variedades = df['Variety'].value_counts()\n",
    "\n",
    "print(\"Contagem de todas as variedades:\")\n",
    "print(contagem_variedades)"
   ]
  },
  {
   "cell_type": "code",
   "execution_count": 27,
   "metadata": {},
   "outputs": [
    {
     "name": "stdout",
     "output_type": "stream",
     "text": [
      "Variedades com contagem de 11 ou mais:\n",
      "Index(['Cara Cara', 'Temple', 'Star Ruby', 'Navel', 'Moro (Blood)',\n",
      "       'Tangerine', 'Clementine', 'Washington Navel', 'Satsuma Mandarin',\n",
      "       'Ortanique (Hybrid)', 'Minneola (Hybrid)', 'Jaffa', 'Ambiance',\n",
      "       'Valencia'],\n",
      "      dtype='object', name='Variety')\n"
     ]
    }
   ],
   "source": [
    "df_apenas_maiores_11 = contagem_variedades[contagem_variedades >= 11].index\n",
    "\n",
    "print(\"Variedades com contagem de 11 ou mais:\")\n",
    "print(df_apenas_maiores_11)"
   ]
  },
  {
   "cell_type": "markdown",
   "metadata": {},
   "source": [
    "## Até aqui!!"
   ]
  },
  {
   "cell_type": "code",
   "execution_count": 13,
   "metadata": {
    "tags": []
   },
   "outputs": [],
   "source": [
    "mediana_doçura_por_variedade = df.groupby('Índice Variety')['Brix (Sweetness)'].median()"
   ]
  },
  {
   "cell_type": "code",
   "execution_count": 23,
   "metadata": {
    "tags": []
   },
   "outputs": [
    {
     "data": {
      "image/png": "[encoded data removed]",
      "text/plain": [
       "<Figure size 640x480 with 1 Axes>"
      ]
     },
     "metadata": {},
     "output_type": "display_data"
    }
   ],
   "source": [
    "mediana_doçura_por_variedade.plot(kind='bar')\n",
    "plt.title('Mediana de Doçura por Variedade')\n",
    "plt.xlabel('Variedade')\n",
    "plt.ylabel('Doçura')\n",
    "plt.show()"
   ]
  },
  {
   "cell_type": "markdown",
   "metadata": {},
   "source": [
    "# Analise Grafica"
   ]
  },
  {
   "cell_type": "markdown",
   "metadata": {},
   "source": [
    "<hr>"
   ]
  },
  {
   "cell_type": "markdown",
   "metadata": {},
   "source": [
    "## Contagem"
   ]
  },
  {
   "cell_type": "code",
   "execution_count": 69,
   "metadata": {
    "tags": []
   },
   "outputs": [
    {
     "data": {
      "text/plain": [
       "Text(0.5, 1.0, 'Count of Oranges by Color')"
      ]
     },
     "execution_count": 69,
     "metadata": {},
     "output_type": "execute_result"
    },
    {
     "data": {
      "image/png": "[encoded data removed]",
      "text/plain": [
       "<Figure size 640x480 with 1 Axes>"
      ]
     },
     "metadata": {},
     "output_type": "display_data"
    }
   ],
   "source": [
    "sns.countplot(data=df,x=\"Color\")\n",
    "plt.title(\"Count of Oranges by Color\")  # Será que a cor da laranja tem relação com algum fator?"
   ]
  },
  {
   "cell_type": "markdown",
   "metadata": {},
   "source": [
    "<hr>"
   ]
  },
  {
   "cell_type": "markdown",
   "metadata": {},
   "source": [
    "## Analise dos histogramas"
   ]
  },
  {
   "cell_type": "code",
   "execution_count": 72,
   "metadata": {},
   "outputs": [
    {
     "data": {
      "text/plain": [
       "<Axes: xlabel='Quality (1-5)', ylabel='Count'>"
      ]
     },
     "execution_count": 72,
     "metadata": {},
     "output_type": "execute_result"
    },
    {
     "data": {
      "image/png": "[encoded data removed]",
      "text/plain": [
       "<Figure size 640x480 with 1 Axes>"
      ]
     },
     "metadata": {},
     "output_type": "display_data"
    }
   ],
   "source": [
    "sns.histplot(data = df, x = \"Quality (1-5)\", hue = \"Color\")"
   ]
  },
  {
   "cell_type": "code",
   "execution_count": null,
   "metadata": {},
   "outputs": [],
   "source": []
  },
  {
   "cell_type": "markdown",
   "metadata": {},
   "source": [
    "# dados matplotlib and Seaborn"
   ]
  },
  {
   "cell_type": "code",
   "execution_count": 16,
   "metadata": {
    "tags": []
   },
   "outputs": [
    {
     "data": {
      "image/png": "[encoded data removed]",
      "text/plain": [
       "<Figure size 800x600 with 1 Axes>"
      ]
     },
     "metadata": {},
     "output_type": "display_data"
    }
   ],
   "source": [
    "plt.figure(figsize=(8, 6))\n",
    "sns.histplot(df[\"pH (Acidity)\"], bins=10, kde=True)\n",
    "plt.title(\"Distribution of pH\")\n",
    "plt.xlabel(\"pH\")\n",
    "plt.show()"
   ]
  },
  {
   "cell_type": "code",
   "execution_count": 17,
   "metadata": {
    "tags": []
   },
   "outputs": [
    {
     "data": {
      "image/png": "[encoded data removed]",
      "text/plain": [
       "<Figure size 800x600 with 1 Axes>"
      ]
     },
     "metadata": {},
     "output_type": "display_data"
    }
   ],
   "source": [
    "plt.figure(figsize=(8, 6))\n",
    "sns.histplot(df[\"Brix (Sweetness)\"], bins=10, kde=True)\n",
    "plt.title(\"Distribution of Sweetness\")\n",
    "plt.xlabel(\"Brix\")\n",
    "plt.show()"
   ]
  },
  {
   "cell_type": "markdown",
   "metadata": {
    "tags": []
   },
   "source": [
    "# dados Pandas e matplotlib"
   ]
  },
  {
   "cell_type": "code",
   "execution_count": 18,
   "metadata": {
    "tags": []
   },
   "outputs": [
    {
     "data": {
      "image/png": "[encoded data removed]",
      "text/plain": [
       "<Figure size 640x480 with 1 Axes>"
      ]
     },
     "metadata": {},
     "output_type": "display_data"
    }
   ],
   "source": [
    "df.groupby(pd.cut(df['Brix (Sweetness)'], bins=5))['Quality (1-5)'].mean().plot(kind='bar')\n",
    "plt.show()"
   ]
  },
  {
   "cell_type": "code",
   "execution_count": 19,
   "metadata": {
    "tags": []
   },
   "outputs": [
    {
     "data": {
      "image/png": "[encoded data removed]",
      "text/plain": [
       "<Figure size 640x480 with 1 Axes>"
      ]
     },
     "metadata": {},
     "output_type": "display_data"
    }
   ],
   "source": [
    "df.groupby(pd.cut(df['Size (cm)'], bins=5))['Brix (Sweetness)'].mean().plot(kind='bar')\n",
    "plt.show()"
   ]
  },
  {
   "cell_type": "code",
   "execution_count": 20,
   "metadata": {
    "tags": []
   },
   "outputs": [
    {
     "data": {
      "image/png": "[encoded data removed]",
      "text/plain": [
       "<Figure size 640x480 with 1 Axes>"
      ]
     },
     "metadata": {},
     "output_type": "display_data"
    }
   ],
   "source": [
    "df.groupby(pd.cut(df['Brix (Sweetness)'], bins=10))['Ripeness (1-5)'].mean().plot(kind='bar')\n",
    "plt.show()"
   ]
  },
  {
   "cell_type": "code",
   "execution_count": 21,
   "metadata": {
    "tags": []
   },
   "outputs": [
    {
     "data": {
      "image/png": "[encoded data removed]",
      "text/plain": [
       "<Figure size 640x480 with 1 Axes>"
      ]
     },
     "metadata": {},
     "output_type": "display_data"
    }
   ],
   "source": [
    "df.groupby(pd.cut(df['Brix (Sweetness)'], bins=10))['pH (Acidity)'].mean().plot(kind='bar')\n",
    "plt.show()"
   ]
  },
  {
   "cell_type": "markdown",
   "metadata": {
    "tags": []
   },
   "source": [
    "## 2. Perguntas de partida e hipóteses"
   ]
  },
  {
   "cell_type": "markdown",
   "metadata": {},
   "source": [
    "- O que está relacionado com a doçura?\n",
    "- O que torna a fruta mais doce?"
   ]
  },
  {
   "cell_type": "markdown",
   "metadata": {
    "tags": []
   },
   "source": [
    "## 3. Insights"
   ]
  },
  {
   "cell_type": "markdown",
   "metadata": {},
   "source": [
    "- A qualidade da Laranjá está diretamente proporicional a sua doçura.\n",
    "- Talvez tenha alguma relação entre a maturação e a doçura, segundo o gráfico que correlaciona as 2 colunas.\n"
   ]
  },
  {
   "cell_type": "code",
   "execution_count": null,
   "metadata": {},
   "outputs": [],
   "source": []
  }
 ],
 "metadata": {
  "kernelspec": {
   "display_name": "Python 3 (ipykernel)",
   "language": "python",
   "name": "python3"
  },
  "language_info": {
   "codemirror_mode": {
    "name": "ipython",
    "version": 3
   },
   "file_extension": ".py",
   "mimetype": "text/x-python",
   "name": "python",
   "nbconvert_exporter": "python",
   "pygments_lexer": "ipython3",
   "version": "3.12.1"
  },
  "vscode": {
   "interpreter": {
    "hash": "eb3c3305d8b111f0102f4f519c5f17abd113fe74db6752c355e994a9008815ef"
   }
  }
 },
 "nbformat": 4,
 "nbformat_minor": 4
}
