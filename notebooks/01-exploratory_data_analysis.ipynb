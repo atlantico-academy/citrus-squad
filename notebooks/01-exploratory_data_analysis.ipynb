{
 "cells": [
  {
   "cell_type": "markdown",
   "metadata": {
    "tags": []
   },
   "source": [
    "# Análise exploratória de dados"
   ]
  },
  {
   "cell_type": "code",
   "execution_count": 1,
   "metadata": {
    "tags": []
   },
   "outputs": [],
   "source": [
    "import pandas as pd\n",
    "import matplotlib.pyplot as plt\n",
    "import seaborn as sns\n",
    "from scipy.stats import linregress\n"
   ]
  },
  {
   "cell_type": "markdown",
   "metadata": {
    "tags": []
   },
   "source": [
    "# 1. Coleta de Dados"
   ]
  },
  {
   "cell_type": "code",
   "execution_count": 2,
   "metadata": {},
   "outputs": [],
   "source": [
    "CAMINHO_CSV = '../data/raw/Orange_Quality_Data.csv'\n",
    "df = pd.read_csv(CAMINHO_CSV)"
   ]
  },
  {
   "cell_type": "code",
   "execution_count": 3,
   "metadata": {
    "tags": []
   },
   "outputs": [
    {
     "data": {
      "text/html": [
       "<div>\n",
       "<style scoped>\n",
       "    .dataframe tbody tr th:only-of-type {\n",
       "        vertical-align: middle;\n",
       "    }\n",
       "\n",
       "    .dataframe tbody tr th {\n",
       "        vertical-align: top;\n",
       "    }\n",
       "\n",
       "    .dataframe thead th {\n",
       "        text-align: right;\n",
       "    }\n",
       "</style>\n",
       "<table border=\"1\" class=\"dataframe\">\n",
       "  <thead>\n",
       "    <tr style=\"text-align: right;\">\n",
       "      <th></th>\n",
       "      <th>Size (cm)</th>\n",
       "      <th>Weight (g)</th>\n",
       "      <th>Brix (Sweetness)</th>\n",
       "      <th>pH (Acidity)</th>\n",
       "      <th>Softness (1-5)</th>\n",
       "      <th>HarvestTime (days)</th>\n",
       "      <th>Ripeness (1-5)</th>\n",
       "      <th>Color</th>\n",
       "      <th>Variety</th>\n",
       "      <th>Blemishes (Y/N)</th>\n",
       "      <th>Quality (1-5)</th>\n",
       "    </tr>\n",
       "  </thead>\n",
       "  <tbody>\n",
       "    <tr>\n",
       "      <th>0</th>\n",
       "      <td>7.5</td>\n",
       "      <td>180</td>\n",
       "      <td>12.0</td>\n",
       "      <td>3.2</td>\n",
       "      <td>2.0</td>\n",
       "      <td>10</td>\n",
       "      <td>4.0</td>\n",
       "      <td>Orange</td>\n",
       "      <td>Valencia</td>\n",
       "      <td>N</td>\n",
       "      <td>4.0</td>\n",
       "    </tr>\n",
       "    <tr>\n",
       "      <th>1</th>\n",
       "      <td>8.2</td>\n",
       "      <td>220</td>\n",
       "      <td>10.5</td>\n",
       "      <td>3.4</td>\n",
       "      <td>3.0</td>\n",
       "      <td>14</td>\n",
       "      <td>4.5</td>\n",
       "      <td>Deep Orange</td>\n",
       "      <td>Navel</td>\n",
       "      <td>N</td>\n",
       "      <td>4.5</td>\n",
       "    </tr>\n",
       "    <tr>\n",
       "      <th>2</th>\n",
       "      <td>6.8</td>\n",
       "      <td>150</td>\n",
       "      <td>14.0</td>\n",
       "      <td>3.0</td>\n",
       "      <td>1.0</td>\n",
       "      <td>7</td>\n",
       "      <td>5.0</td>\n",
       "      <td>Light Orange</td>\n",
       "      <td>Cara Cara</td>\n",
       "      <td>N</td>\n",
       "      <td>5.0</td>\n",
       "    </tr>\n",
       "    <tr>\n",
       "      <th>3</th>\n",
       "      <td>9.0</td>\n",
       "      <td>250</td>\n",
       "      <td>8.5</td>\n",
       "      <td>3.8</td>\n",
       "      <td>4.0</td>\n",
       "      <td>21</td>\n",
       "      <td>3.5</td>\n",
       "      <td>Orange-Red</td>\n",
       "      <td>Blood Orange</td>\n",
       "      <td>N</td>\n",
       "      <td>3.5</td>\n",
       "    </tr>\n",
       "    <tr>\n",
       "      <th>4</th>\n",
       "      <td>8.5</td>\n",
       "      <td>210</td>\n",
       "      <td>11.5</td>\n",
       "      <td>3.3</td>\n",
       "      <td>2.5</td>\n",
       "      <td>12</td>\n",
       "      <td>5.0</td>\n",
       "      <td>Orange</td>\n",
       "      <td>Hamlin</td>\n",
       "      <td>Y (Minor)</td>\n",
       "      <td>4.5</td>\n",
       "    </tr>\n",
       "  </tbody>\n",
       "</table>\n",
       "</div>"
      ],
      "text/plain": [
       "   Size (cm)  Weight (g)  Brix (Sweetness)  pH (Acidity)  Softness (1-5)  \\\n",
       "0        7.5         180              12.0           3.2             2.0   \n",
       "1        8.2         220              10.5           3.4             3.0   \n",
       "2        6.8         150              14.0           3.0             1.0   \n",
       "3        9.0         250               8.5           3.8             4.0   \n",
       "4        8.5         210              11.5           3.3             2.5   \n",
       "\n",
       "   HarvestTime (days)  Ripeness (1-5)         Color       Variety  \\\n",
       "0                  10             4.0        Orange      Valencia   \n",
       "1                  14             4.5   Deep Orange         Navel   \n",
       "2                   7             5.0  Light Orange     Cara Cara   \n",
       "3                  21             3.5    Orange-Red  Blood Orange   \n",
       "4                  12             5.0        Orange        Hamlin   \n",
       "\n",
       "  Blemishes (Y/N)  Quality (1-5)  \n",
       "0               N            4.0  \n",
       "1               N            4.5  \n",
       "2               N            5.0  \n",
       "3               N            3.5  \n",
       "4       Y (Minor)            4.5  "
      ]
     },
     "execution_count": 3,
     "metadata": {},
     "output_type": "execute_result"
    }
   ],
   "source": [
    "df.head()"
   ]
  },
  {
   "cell_type": "markdown",
   "metadata": {},
   "source": [
    "_Mostra as 5 primeiras linhas do dataframe._"
   ]
  },
  {
   "cell_type": "markdown",
   "metadata": {},
   "source": [
    "# 2. Descrição dos Dados"
   ]
  },
  {
   "cell_type": "markdown",
   "metadata": {},
   "source": [
    "### O conjunto de dados tabular contém atributos numéricos que descrevem a qualidade das laranjas, incluindo tamanho, peso, doçura (Brix), acidez (pH), maciez, época de colheita e maturação, bem como atributos categóricos como cor, variedade, presença de manchas. e qualidade geral.\n",
    "#### Adicionar mais informação?"
   ]
  },
  {
   "cell_type": "markdown",
   "metadata": {},
   "source": [
    "## 2.1 Dicionario de Dados"
   ]
  },
  {
   "cell_type": "code",
   "execution_count": 4,
   "metadata": {},
   "outputs": [
    {
     "data": {
      "text/html": [
       "<div>\n",
       "<style scoped>\n",
       "    .dataframe tbody tr th:only-of-type {\n",
       "        vertical-align: middle;\n",
       "    }\n",
       "\n",
       "    .dataframe tbody tr th {\n",
       "        vertical-align: top;\n",
       "    }\n",
       "\n",
       "    .dataframe thead th {\n",
       "        text-align: right;\n",
       "    }\n",
       "</style>\n",
       "<table border=\"1\" class=\"dataframe\">\n",
       "  <thead>\n",
       "    <tr style=\"text-align: right;\">\n",
       "      <th></th>\n",
       "      <th>variavel</th>\n",
       "      <th>descricao</th>\n",
       "      <th>tipo</th>\n",
       "      <th>subtipo</th>\n",
       "    </tr>\n",
       "  </thead>\n",
       "  <tbody>\n",
       "    <tr>\n",
       "      <th>0</th>\n",
       "      <td>Size</td>\n",
       "      <td>Tamanho  da fruta(cm)</td>\n",
       "      <td>quantitativa</td>\n",
       "      <td>continua</td>\n",
       "    </tr>\n",
       "    <tr>\n",
       "      <th>1</th>\n",
       "      <td>Weigth</td>\n",
       "      <td>Peso</td>\n",
       "      <td>quantitativa</td>\n",
       "      <td>continua</td>\n",
       "    </tr>\n",
       "    <tr>\n",
       "      <th>2</th>\n",
       "      <td>Brix</td>\n",
       "      <td>Nível de doçura em Brix</td>\n",
       "      <td>quantitativa</td>\n",
       "      <td>continua</td>\n",
       "    </tr>\n",
       "    <tr>\n",
       "      <th>3</th>\n",
       "      <td>pH</td>\n",
       "      <td>Nível de acidez (pH)</td>\n",
       "      <td>quantitativa</td>\n",
       "      <td>continua</td>\n",
       "    </tr>\n",
       "    <tr>\n",
       "      <th>4</th>\n",
       "      <td>Softness</td>\n",
       "      <td>Classificação de suavidade (1-5)</td>\n",
       "      <td>quantitativa</td>\n",
       "      <td>continua</td>\n",
       "    </tr>\n",
       "    <tr>\n",
       "      <th>5</th>\n",
       "      <td>HarvestTime</td>\n",
       "      <td>Dias desde a colheita</td>\n",
       "      <td>quantitativa</td>\n",
       "      <td>nominal</td>\n",
       "    </tr>\n",
       "    <tr>\n",
       "      <th>6</th>\n",
       "      <td>Ripeness</td>\n",
       "      <td>Maturação</td>\n",
       "      <td>quantitativa</td>\n",
       "      <td>discreta</td>\n",
       "    </tr>\n",
       "    <tr>\n",
       "      <th>7</th>\n",
       "      <td>Color</td>\n",
       "      <td>Cor da fruta</td>\n",
       "      <td>qualitativa</td>\n",
       "      <td>nominal</td>\n",
       "    </tr>\n",
       "    <tr>\n",
       "      <th>8</th>\n",
       "      <td>Variety</td>\n",
       "      <td>Variedade Laranja</td>\n",
       "      <td>qualitativa</td>\n",
       "      <td>nominal</td>\n",
       "    </tr>\n",
       "    <tr>\n",
       "      <th>9</th>\n",
       "      <td>Blemishes</td>\n",
       "      <td>Presença de manchas</td>\n",
       "      <td>qualitativa</td>\n",
       "      <td>booleano</td>\n",
       "    </tr>\n",
       "    <tr>\n",
       "      <th>10</th>\n",
       "      <td>Quality</td>\n",
       "      <td>Qualidade geral da fruta</td>\n",
       "      <td>quantitativa</td>\n",
       "      <td>discreta</td>\n",
       "    </tr>\n",
       "  </tbody>\n",
       "</table>\n",
       "</div>"
      ],
      "text/plain": [
       "       variavel                         descricao          tipo   subtipo\n",
       "0          Size             Tamanho  da fruta(cm)  quantitativa  continua\n",
       "1        Weigth                              Peso  quantitativa  continua\n",
       "2          Brix           Nível de doçura em Brix  quantitativa  continua\n",
       "3            pH              Nível de acidez (pH)  quantitativa  continua\n",
       "4      Softness  Classificação de suavidade (1-5)  quantitativa  continua\n",
       "5   HarvestTime             Dias desde a colheita  quantitativa   nominal\n",
       "6      Ripeness                         Maturação  quantitativa  discreta\n",
       "7         Color                      Cor da fruta   qualitativa   nominal\n",
       "8       Variety                 Variedade Laranja   qualitativa   nominal\n",
       "9     Blemishes               Presença de manchas   qualitativa  booleano\n",
       "10      Quality          Qualidade geral da fruta  quantitativa  discreta"
      ]
     },
     "execution_count": 4,
     "metadata": {},
     "output_type": "execute_result"
    }
   ],
   "source": [
    "dicionario = pd.DataFrame([\n",
    "    {\n",
    "        \"variavel\": \"Size\",\n",
    "        \"descricao\": \"Tamanho  da fruta(cm)\",\n",
    "        \"tipo\":\"quantitativa\",\n",
    "        \"subtipo\":\"continua\"\n",
    "    },{\n",
    "        \"variavel\": \"Weigth\",\n",
    "        \"descricao\": \"Peso\",\n",
    "        \"tipo\":\"quantitativa\",\n",
    "        \"subtipo\":\"continua\"\n",
    "    },{\n",
    "        \"variavel\": \"Brix\",\n",
    "        \"descricao\": \"Nível de doçura em Brix\",\n",
    "        \"tipo\":\"quantitativa\",\n",
    "        \"subtipo\":\"continua\"\n",
    "    },{\n",
    "        \"variavel\": \"pH\",\n",
    "        \"descricao\": \"Nível de acidez (pH)\",\n",
    "        \"tipo\":\"quantitativa\",\n",
    "        \"subtipo\":\"continua\"\n",
    "    },{\n",
    "        \"variavel\": \"Softness\",\n",
    "        \"descricao\": \"Classificação de suavidade (1-5)\",\n",
    "        \"tipo\":\"quantitativa\",\n",
    "        \"subtipo\":\"continua\"\n",
    "    },{\n",
    "        \"variavel\": \"HarvestTime\",\n",
    "        \"descricao\": \"Dias desde a colheita\",\n",
    "        \"tipo\":\"quantitativa\",\n",
    "        \"subtipo\":\"nominal\"\n",
    "    },{\n",
    "        \"variavel\": \"Ripeness\",\n",
    "        \"descricao\": \"Maturação\",\n",
    "        \"tipo\":\"quantitativa\",\n",
    "        \"subtipo\":\"discreta\"\n",
    "    },{\n",
    "        \"variavel\": \"Color\",\n",
    "        \"descricao\": \"Cor da fruta\",\n",
    "        \"tipo\":\"qualitativa\",\n",
    "        \"subtipo\":\"nominal\"\n",
    "    },{\n",
    "        \"variavel\": \"Variety\",\n",
    "        \"descricao\": \"Variedade Laranja\",\n",
    "        \"tipo\":\"qualitativa\",\n",
    "        \"subtipo\":\"nominal\"\n",
    "    },{\n",
    "        \"variavel\": \"Blemishes\",\n",
    "        \"descricao\": \"Presença de manchas\",\n",
    "        \"tipo\":\"qualitativa\",\n",
    "        \"subtipo\":\"booleano\"\n",
    "    },{\n",
    "        \"variavel\": \"Quality\",\n",
    "        \"descricao\": \"Qualidade geral da fruta\",\n",
    "        \"tipo\":\"quantitativa\",\n",
    "        \"subtipo\":\"discreta\"\n",
    "    }\n",
    "])\n",
    "dicionario.to_csv('../data/external/dictionary.csv', index=False)\n",
    "dicionario"
   ]
  },
  {
   "cell_type": "markdown",
   "metadata": {},
   "source": [
    " _Temos no total 11 variáveis de estudo, sendo 8 quantitativas e 3 qualitativas._"
   ]
  },
  {
   "cell_type": "markdown",
   "metadata": {},
   "source": [
    "<hr>"
   ]
  },
  {
   "cell_type": "markdown",
   "metadata": {
    "tags": []
   },
   "source": [
    "<h2>Analise inicial:</h2>\n",
    "<h4>Aqui buscaremos as informações iniciais dos nossos dados, como: </h4> \n",
    "<ul>\n",
    " <li>Características das colunas e das linhas.</li>\n",
    " <li>Valores como média, frequência, mínimos e máximos</li>\n",
    " <li>Valores de exemplo</li>\n",
    "</ul>"
   ]
  },
  {
   "cell_type": "code",
   "execution_count": 5,
   "metadata": {
    "tags": []
   },
   "outputs": [
    {
     "name": "stdout",
     "output_type": "stream",
     "text": [
      "<class 'pandas.core.frame.DataFrame'>\n",
      "RangeIndex: 241 entries, 0 to 240\n",
      "Data columns (total 11 columns):\n",
      " #   Column              Non-Null Count  Dtype  \n",
      "---  ------              --------------  -----  \n",
      " 0   Size (cm)           241 non-null    float64\n",
      " 1   Weight (g)          241 non-null    int64  \n",
      " 2   Brix (Sweetness)    241 non-null    float64\n",
      " 3   pH (Acidity)        241 non-null    float64\n",
      " 4   Softness (1-5)      241 non-null    float64\n",
      " 5   HarvestTime (days)  241 non-null    int64  \n",
      " 6   Ripeness (1-5)      241 non-null    float64\n",
      " 7   Color               241 non-null    object \n",
      " 8   Variety             241 non-null    object \n",
      " 9   Blemishes (Y/N)     241 non-null    object \n",
      " 10  Quality (1-5)       241 non-null    float64\n",
      "dtypes: float64(6), int64(2), object(3)\n",
      "memory usage: 20.8+ KB\n"
     ]
    }
   ],
   "source": [
    "df.info()"
   ]
  },
  {
   "cell_type": "code",
   "execution_count": 6,
   "metadata": {
    "tags": []
   },
   "outputs": [
    {
     "data": {
      "text/html": [
       "<div>\n",
       "<style scoped>\n",
       "    .dataframe tbody tr th:only-of-type {\n",
       "        vertical-align: middle;\n",
       "    }\n",
       "\n",
       "    .dataframe tbody tr th {\n",
       "        vertical-align: top;\n",
       "    }\n",
       "\n",
       "    .dataframe thead th {\n",
       "        text-align: right;\n",
       "    }\n",
       "</style>\n",
       "<table border=\"1\" class=\"dataframe\">\n",
       "  <thead>\n",
       "    <tr style=\"text-align: right;\">\n",
       "      <th></th>\n",
       "      <th>Size (cm)</th>\n",
       "      <th>Weight (g)</th>\n",
       "      <th>Brix (Sweetness)</th>\n",
       "      <th>pH (Acidity)</th>\n",
       "      <th>Softness (1-5)</th>\n",
       "      <th>HarvestTime (days)</th>\n",
       "      <th>Ripeness (1-5)</th>\n",
       "      <th>Quality (1-5)</th>\n",
       "    </tr>\n",
       "  </thead>\n",
       "  <tbody>\n",
       "    <tr>\n",
       "      <th>count</th>\n",
       "      <td>241.000000</td>\n",
       "      <td>241.000000</td>\n",
       "      <td>241.000000</td>\n",
       "      <td>241.000000</td>\n",
       "      <td>241.000000</td>\n",
       "      <td>241.000000</td>\n",
       "      <td>241.000000</td>\n",
       "      <td>241.000000</td>\n",
       "    </tr>\n",
       "    <tr>\n",
       "      <th>mean</th>\n",
       "      <td>7.844813</td>\n",
       "      <td>205.128631</td>\n",
       "      <td>10.907884</td>\n",
       "      <td>3.473900</td>\n",
       "      <td>3.072614</td>\n",
       "      <td>15.344398</td>\n",
       "      <td>3.599585</td>\n",
       "      <td>3.817427</td>\n",
       "    </tr>\n",
       "    <tr>\n",
       "      <th>std</th>\n",
       "      <td>1.086002</td>\n",
       "      <td>56.461012</td>\n",
       "      <td>2.760446</td>\n",
       "      <td>0.421007</td>\n",
       "      <td>1.323630</td>\n",
       "      <td>5.323852</td>\n",
       "      <td>1.205214</td>\n",
       "      <td>1.014410</td>\n",
       "    </tr>\n",
       "    <tr>\n",
       "      <th>min</th>\n",
       "      <td>6.000000</td>\n",
       "      <td>100.000000</td>\n",
       "      <td>5.500000</td>\n",
       "      <td>2.800000</td>\n",
       "      <td>1.000000</td>\n",
       "      <td>4.000000</td>\n",
       "      <td>1.000000</td>\n",
       "      <td>1.000000</td>\n",
       "    </tr>\n",
       "    <tr>\n",
       "      <th>25%</th>\n",
       "      <td>6.900000</td>\n",
       "      <td>155.000000</td>\n",
       "      <td>8.500000</td>\n",
       "      <td>3.200000</td>\n",
       "      <td>2.000000</td>\n",
       "      <td>11.000000</td>\n",
       "      <td>3.000000</td>\n",
       "      <td>3.000000</td>\n",
       "    </tr>\n",
       "    <tr>\n",
       "      <th>50%</th>\n",
       "      <td>7.800000</td>\n",
       "      <td>205.000000</td>\n",
       "      <td>11.000000</td>\n",
       "      <td>3.400000</td>\n",
       "      <td>3.000000</td>\n",
       "      <td>15.000000</td>\n",
       "      <td>4.000000</td>\n",
       "      <td>4.000000</td>\n",
       "    </tr>\n",
       "    <tr>\n",
       "      <th>75%</th>\n",
       "      <td>8.700000</td>\n",
       "      <td>252.000000</td>\n",
       "      <td>13.400000</td>\n",
       "      <td>3.800000</td>\n",
       "      <td>4.000000</td>\n",
       "      <td>20.000000</td>\n",
       "      <td>4.500000</td>\n",
       "      <td>4.500000</td>\n",
       "    </tr>\n",
       "    <tr>\n",
       "      <th>max</th>\n",
       "      <td>10.000000</td>\n",
       "      <td>300.000000</td>\n",
       "      <td>16.000000</td>\n",
       "      <td>4.400000</td>\n",
       "      <td>5.000000</td>\n",
       "      <td>25.000000</td>\n",
       "      <td>5.000000</td>\n",
       "      <td>5.000000</td>\n",
       "    </tr>\n",
       "  </tbody>\n",
       "</table>\n",
       "</div>"
      ],
      "text/plain": [
       "        Size (cm)  Weight (g)  Brix (Sweetness)  pH (Acidity)  Softness (1-5)  \\\n",
       "count  241.000000  241.000000        241.000000    241.000000      241.000000   \n",
       "mean     7.844813  205.128631         10.907884      3.473900        3.072614   \n",
       "std      1.086002   56.461012          2.760446      0.421007        1.323630   \n",
       "min      6.000000  100.000000          5.500000      2.800000        1.000000   \n",
       "25%      6.900000  155.000000          8.500000      3.200000        2.000000   \n",
       "50%      7.800000  205.000000         11.000000      3.400000        3.000000   \n",
       "75%      8.700000  252.000000         13.400000      3.800000        4.000000   \n",
       "max     10.000000  300.000000         16.000000      4.400000        5.000000   \n",
       "\n",
       "       HarvestTime (days)  Ripeness (1-5)  Quality (1-5)  \n",
       "count          241.000000      241.000000     241.000000  \n",
       "mean            15.344398        3.599585       3.817427  \n",
       "std              5.323852        1.205214       1.014410  \n",
       "min              4.000000        1.000000       1.000000  \n",
       "25%             11.000000        3.000000       3.000000  \n",
       "50%             15.000000        4.000000       4.000000  \n",
       "75%             20.000000        4.500000       4.500000  \n",
       "max             25.000000        5.000000       5.000000  "
      ]
     },
     "execution_count": 6,
     "metadata": {},
     "output_type": "execute_result"
    }
   ],
   "source": [
    "df.describe()"
   ]
  },
  {
   "cell_type": "code",
   "execution_count": 7,
   "metadata": {},
   "outputs": [
    {
     "name": "stdout",
     "output_type": "stream",
     "text": [
      "Nossa tabela possui: (241, 11)\n"
     ]
    }
   ],
   "source": [
    "print( f'Nossa tabela possui: {df.shape}')"
   ]
  },
  {
   "cell_type": "markdown",
   "metadata": {},
   "source": [
    "<hr>"
   ]
  },
  {
   "cell_type": "markdown",
   "metadata": {},
   "source": [
    "## Analise estátistica:"
   ]
  },
  {
   "cell_type": "markdown",
   "metadata": {},
   "source": [
    "- Mediana e Desvio Padrão:\n",
    "    A mediana é uma medida de tendência central que representa o valor no centro de um conjunto de dados quando eles são ordenados em ordem crescente ou decrescente. Ao contrário da média, a mediana não é influenciada por valores extremos, tornando-se uma medida confiável da posição central dos dados.\n",
    "    O desvio padrão é a medida do quão distante estão os valores da média."
   ]
  },
  {
   "cell_type": "code",
   "execution_count": 8,
   "metadata": {},
   "outputs": [
    {
     "name": "stdout",
     "output_type": "stream",
     "text": [
      "Media:3.8174273858921164 \n",
      " Mediana: 4.0 \n",
      " Desvio padrão: 1.01441034797572\n",
      "90% das laranjas possuem qualidade até 4.5\n"
     ]
    }
   ],
   "source": [
    "Mediana = df['Quality (1-5)'].median()\n",
    "Media = df['Quality (1-5)'].mean()\n",
    "Percenti = df['Quality (1-5)'].quantile(q=0.75)\n",
    "desvio_padrao = df['Quality (1-5)'].std()\n",
    "print(f'Media:{Media} \\n Mediana: {Mediana} \\n Desvio padrão: {desvio_padrao}')\n",
    "print(f'90% das laranjas possuem qualidade até {Percenti}')\n"
   ]
  },
  {
   "cell_type": "markdown",
   "metadata": {},
   "source": [
    "<hr>"
   ]
  },
  {
   "cell_type": "code",
   "execution_count": 9,
   "metadata": {
    "tags": []
   },
   "outputs": [
    {
     "data": {
      "text/html": [
       "<div>\n",
       "<style scoped>\n",
       "    .dataframe tbody tr th:only-of-type {\n",
       "        vertical-align: middle;\n",
       "    }\n",
       "\n",
       "    .dataframe tbody tr th {\n",
       "        vertical-align: top;\n",
       "    }\n",
       "\n",
       "    .dataframe thead th {\n",
       "        text-align: right;\n",
       "    }\n",
       "</style>\n",
       "<table border=\"1\" class=\"dataframe\">\n",
       "  <thead>\n",
       "    <tr style=\"text-align: right;\">\n",
       "      <th></th>\n",
       "      <th>Ripeness (1-5)</th>\n",
       "      <th>Brix (Sweetness)</th>\n",
       "    </tr>\n",
       "  </thead>\n",
       "  <tbody>\n",
       "    <tr>\n",
       "      <th>2</th>\n",
       "      <td>5.0</td>\n",
       "      <td>14.0</td>\n",
       "    </tr>\n",
       "    <tr>\n",
       "      <th>7</th>\n",
       "      <td>4.5</td>\n",
       "      <td>13.5</td>\n",
       "    </tr>\n",
       "    <tr>\n",
       "      <th>11</th>\n",
       "      <td>3.0</td>\n",
       "      <td>14.8</td>\n",
       "    </tr>\n",
       "    <tr>\n",
       "      <th>15</th>\n",
       "      <td>5.0</td>\n",
       "      <td>14.5</td>\n",
       "    </tr>\n",
       "    <tr>\n",
       "      <th>17</th>\n",
       "      <td>1.0</td>\n",
       "      <td>14.1</td>\n",
       "    </tr>\n",
       "    <tr>\n",
       "      <th>...</th>\n",
       "      <td>...</td>\n",
       "      <td>...</td>\n",
       "    </tr>\n",
       "    <tr>\n",
       "      <th>224</th>\n",
       "      <td>5.0</td>\n",
       "      <td>13.0</td>\n",
       "    </tr>\n",
       "    <tr>\n",
       "      <th>225</th>\n",
       "      <td>3.0</td>\n",
       "      <td>14.6</td>\n",
       "    </tr>\n",
       "    <tr>\n",
       "      <th>226</th>\n",
       "      <td>2.0</td>\n",
       "      <td>14.5</td>\n",
       "    </tr>\n",
       "    <tr>\n",
       "      <th>230</th>\n",
       "      <td>2.0</td>\n",
       "      <td>15.6</td>\n",
       "    </tr>\n",
       "    <tr>\n",
       "      <th>238</th>\n",
       "      <td>3.0</td>\n",
       "      <td>15.7</td>\n",
       "    </tr>\n",
       "  </tbody>\n",
       "</table>\n",
       "<p>70 rows × 2 columns</p>\n",
       "</div>"
      ],
      "text/plain": [
       "     Ripeness (1-5)  Brix (Sweetness)\n",
       "2               5.0              14.0\n",
       "7               4.5              13.5\n",
       "11              3.0              14.8\n",
       "15              5.0              14.5\n",
       "17              1.0              14.1\n",
       "..              ...               ...\n",
       "224             5.0              13.0\n",
       "225             3.0              14.6\n",
       "226             2.0              14.5\n",
       "230             2.0              15.6\n",
       "238             3.0              15.7\n",
       "\n",
       "[70 rows x 2 columns]"
      ]
     },
     "metadata": {},
     "output_type": "display_data"
    }
   ],
   "source": [
    "brix = df.loc[df['Brix (Sweetness)'] >= 13,['Ripeness (1-5)', 'Brix (Sweetness)']]\n",
    "display(brix)"
   ]
  },
  {
   "cell_type": "markdown",
   "metadata": {},
   "source": [
    "<hr> "
   ]
  },
  {
   "cell_type": "markdown",
   "metadata": {},
   "source": [
    "## Analise exploratória"
   ]
  },
  {
   "cell_type": "markdown",
   "metadata": {},
   "source": [
    "### Foco em cores:"
   ]
  },
  {
   "cell_type": "code",
   "execution_count": 10,
   "metadata": {},
   "outputs": [
    {
     "data": {
      "text/html": [
       "<div>\n",
       "<style scoped>\n",
       "    .dataframe tbody tr th:only-of-type {\n",
       "        vertical-align: middle;\n",
       "    }\n",
       "\n",
       "    .dataframe tbody tr th {\n",
       "        vertical-align: top;\n",
       "    }\n",
       "\n",
       "    .dataframe thead th {\n",
       "        text-align: right;\n",
       "    }\n",
       "</style>\n",
       "<table border=\"1\" class=\"dataframe\">\n",
       "  <thead>\n",
       "    <tr style=\"text-align: right;\">\n",
       "      <th></th>\n",
       "      <th>index</th>\n",
       "      <th>Color</th>\n",
       "    </tr>\n",
       "  </thead>\n",
       "  <tbody>\n",
       "    <tr>\n",
       "      <th>0</th>\n",
       "      <td>Deep Orange</td>\n",
       "      <td>75</td>\n",
       "    </tr>\n",
       "    <tr>\n",
       "      <th>1</th>\n",
       "      <td>Light Orange</td>\n",
       "      <td>64</td>\n",
       "    </tr>\n",
       "    <tr>\n",
       "      <th>2</th>\n",
       "      <td>Orange-Red</td>\n",
       "      <td>55</td>\n",
       "    </tr>\n",
       "    <tr>\n",
       "      <th>3</th>\n",
       "      <td>Orange</td>\n",
       "      <td>38</td>\n",
       "    </tr>\n",
       "    <tr>\n",
       "      <th>4</th>\n",
       "      <td>Yellow-Orange</td>\n",
       "      <td>9</td>\n",
       "    </tr>\n",
       "  </tbody>\n",
       "</table>\n",
       "</div>"
      ],
      "text/plain": [
       "           index  Color\n",
       "0    Deep Orange     75\n",
       "1   Light Orange     64\n",
       "2     Orange-Red     55\n",
       "3         Orange     38\n",
       "4  Yellow-Orange      9"
      ]
     },
     "execution_count": 10,
     "metadata": {},
     "output_type": "execute_result"
    }
   ],
   "source": [
    "color = df['Color'].value_counts().reset_index()\n",
    "color"
   ]
  },
  {
   "cell_type": "code",
   "execution_count": 11,
   "metadata": {},
   "outputs": [
    {
     "data": {
      "text/plain": [
       "Color\n",
       "Deep Orange      4.306667\n",
       "Light Orange     3.281250\n",
       "Orange           3.750000\n",
       "Orange-Red       3.754545\n",
       "Yellow-Orange    4.222222\n",
       "Name: Quality (1-5), dtype: float64"
      ]
     },
     "execution_count": 11,
     "metadata": {},
     "output_type": "execute_result"
    }
   ],
   "source": [
    "df.groupby('Color')['Quality (1-5)'].mean()"
   ]
  },
  {
   "cell_type": "markdown",
   "metadata": {},
   "source": [
    "### Foco em variedade:"
   ]
  },
  {
   "cell_type": "code",
   "execution_count": 12,
   "metadata": {},
   "outputs": [
    {
     "name": "stdout",
     "output_type": "stream",
     "text": [
      "Valores unicos de laranjas e suas contagens:\n"
     ]
    },
    {
     "data": {
      "text/html": [
       "<div>\n",
       "<style scoped>\n",
       "    .dataframe tbody tr th:only-of-type {\n",
       "        vertical-align: middle;\n",
       "    }\n",
       "\n",
       "    .dataframe tbody tr th {\n",
       "        vertical-align: top;\n",
       "    }\n",
       "\n",
       "    .dataframe thead th {\n",
       "        text-align: right;\n",
       "    }\n",
       "</style>\n",
       "<table border=\"1\" class=\"dataframe\">\n",
       "  <thead>\n",
       "    <tr style=\"text-align: right;\">\n",
       "      <th></th>\n",
       "      <th>index</th>\n",
       "      <th>Variety</th>\n",
       "    </tr>\n",
       "  </thead>\n",
       "  <tbody>\n",
       "    <tr>\n",
       "      <th>0</th>\n",
       "      <td>Cara Cara</td>\n",
       "      <td>21</td>\n",
       "    </tr>\n",
       "    <tr>\n",
       "      <th>1</th>\n",
       "      <td>Temple</td>\n",
       "      <td>18</td>\n",
       "    </tr>\n",
       "    <tr>\n",
       "      <th>2</th>\n",
       "      <td>Star Ruby</td>\n",
       "      <td>18</td>\n",
       "    </tr>\n",
       "    <tr>\n",
       "      <th>3</th>\n",
       "      <td>Navel</td>\n",
       "      <td>16</td>\n",
       "    </tr>\n",
       "    <tr>\n",
       "      <th>4</th>\n",
       "      <td>Moro (Blood)</td>\n",
       "      <td>16</td>\n",
       "    </tr>\n",
       "    <tr>\n",
       "      <th>5</th>\n",
       "      <td>Tangerine</td>\n",
       "      <td>14</td>\n",
       "    </tr>\n",
       "    <tr>\n",
       "      <th>6</th>\n",
       "      <td>Clementine</td>\n",
       "      <td>14</td>\n",
       "    </tr>\n",
       "    <tr>\n",
       "      <th>7</th>\n",
       "      <td>Washington Navel</td>\n",
       "      <td>14</td>\n",
       "    </tr>\n",
       "    <tr>\n",
       "      <th>8</th>\n",
       "      <td>Satsuma Mandarin</td>\n",
       "      <td>13</td>\n",
       "    </tr>\n",
       "    <tr>\n",
       "      <th>9</th>\n",
       "      <td>Ortanique (Hybrid)</td>\n",
       "      <td>13</td>\n",
       "    </tr>\n",
       "    <tr>\n",
       "      <th>10</th>\n",
       "      <td>Minneola (Hybrid)</td>\n",
       "      <td>12</td>\n",
       "    </tr>\n",
       "    <tr>\n",
       "      <th>11</th>\n",
       "      <td>Jaffa</td>\n",
       "      <td>11</td>\n",
       "    </tr>\n",
       "    <tr>\n",
       "      <th>12</th>\n",
       "      <td>Ambiance</td>\n",
       "      <td>11</td>\n",
       "    </tr>\n",
       "    <tr>\n",
       "      <th>13</th>\n",
       "      <td>Valencia</td>\n",
       "      <td>11</td>\n",
       "    </tr>\n",
       "    <tr>\n",
       "      <th>14</th>\n",
       "      <td>California Valencia</td>\n",
       "      <td>7</td>\n",
       "    </tr>\n",
       "    <tr>\n",
       "      <th>15</th>\n",
       "      <td>Honey Tangerine</td>\n",
       "      <td>7</td>\n",
       "    </tr>\n",
       "    <tr>\n",
       "      <th>16</th>\n",
       "      <td>Hamlin</td>\n",
       "      <td>5</td>\n",
       "    </tr>\n",
       "    <tr>\n",
       "      <th>17</th>\n",
       "      <td>Midsweet (Hybrid)</td>\n",
       "      <td>5</td>\n",
       "    </tr>\n",
       "    <tr>\n",
       "      <th>18</th>\n",
       "      <td>Clementine (Seedless)</td>\n",
       "      <td>4</td>\n",
       "    </tr>\n",
       "    <tr>\n",
       "      <th>19</th>\n",
       "      <td>Murcott (Hybrid)</td>\n",
       "      <td>3</td>\n",
       "    </tr>\n",
       "    <tr>\n",
       "      <th>20</th>\n",
       "      <td>Navel (Late Season)</td>\n",
       "      <td>3</td>\n",
       "    </tr>\n",
       "    <tr>\n",
       "      <th>21</th>\n",
       "      <td>Blood Orange</td>\n",
       "      <td>2</td>\n",
       "    </tr>\n",
       "    <tr>\n",
       "      <th>22</th>\n",
       "      <td>Navel (Early Season)</td>\n",
       "      <td>2</td>\n",
       "    </tr>\n",
       "    <tr>\n",
       "      <th>23</th>\n",
       "      <td>Tangelo (Hybrid)</td>\n",
       "      <td>1</td>\n",
       "    </tr>\n",
       "  </tbody>\n",
       "</table>\n",
       "</div>"
      ],
      "text/plain": [
       "                    index  Variety\n",
       "0               Cara Cara       21\n",
       "1                  Temple       18\n",
       "2               Star Ruby       18\n",
       "3                   Navel       16\n",
       "4            Moro (Blood)       16\n",
       "5               Tangerine       14\n",
       "6              Clementine       14\n",
       "7        Washington Navel       14\n",
       "8        Satsuma Mandarin       13\n",
       "9      Ortanique (Hybrid)       13\n",
       "10      Minneola (Hybrid)       12\n",
       "11                  Jaffa       11\n",
       "12               Ambiance       11\n",
       "13               Valencia       11\n",
       "14    California Valencia        7\n",
       "15        Honey Tangerine        7\n",
       "16                 Hamlin        5\n",
       "17      Midsweet (Hybrid)        5\n",
       "18  Clementine (Seedless)        4\n",
       "19       Murcott (Hybrid)        3\n",
       "20    Navel (Late Season)        3\n",
       "21           Blood Orange        2\n",
       "22   Navel (Early Season)        2\n",
       "23       Tangelo (Hybrid)        1"
      ]
     },
     "execution_count": 12,
     "metadata": {},
     "output_type": "execute_result"
    }
   ],
   "source": [
    "print(\"Valores unicos de laranjas e suas contagens:\")\n",
    "variety = df['Variety'].value_counts().reset_index()\n",
    "variety"
   ]
  },
  {
   "cell_type": "markdown",
   "metadata": {},
   "source": [
    "### Removendo valores abaixo de 4% de ambas as tabelas:"
   ]
  },
  {
   "cell_type": "code",
   "execution_count": 13,
   "metadata": {},
   "outputs": [
    {
     "data": {
      "text/html": [
       "<div>\n",
       "<style scoped>\n",
       "    .dataframe tbody tr th:only-of-type {\n",
       "        vertical-align: middle;\n",
       "    }\n",
       "\n",
       "    .dataframe tbody tr th {\n",
       "        vertical-align: top;\n",
       "    }\n",
       "\n",
       "    .dataframe thead th {\n",
       "        text-align: right;\n",
       "    }\n",
       "</style>\n",
       "<table border=\"1\" class=\"dataframe\">\n",
       "  <thead>\n",
       "    <tr style=\"text-align: right;\">\n",
       "      <th></th>\n",
       "      <th>index</th>\n",
       "      <th>Variety</th>\n",
       "    </tr>\n",
       "  </thead>\n",
       "  <tbody>\n",
       "    <tr>\n",
       "      <th>0</th>\n",
       "      <td>Cara Cara</td>\n",
       "      <td>21</td>\n",
       "    </tr>\n",
       "    <tr>\n",
       "      <th>1</th>\n",
       "      <td>Temple</td>\n",
       "      <td>18</td>\n",
       "    </tr>\n",
       "    <tr>\n",
       "      <th>2</th>\n",
       "      <td>Star Ruby</td>\n",
       "      <td>18</td>\n",
       "    </tr>\n",
       "    <tr>\n",
       "      <th>3</th>\n",
       "      <td>Navel</td>\n",
       "      <td>16</td>\n",
       "    </tr>\n",
       "    <tr>\n",
       "      <th>4</th>\n",
       "      <td>Moro (Blood)</td>\n",
       "      <td>16</td>\n",
       "    </tr>\n",
       "    <tr>\n",
       "      <th>5</th>\n",
       "      <td>Tangerine</td>\n",
       "      <td>14</td>\n",
       "    </tr>\n",
       "    <tr>\n",
       "      <th>6</th>\n",
       "      <td>Clementine</td>\n",
       "      <td>14</td>\n",
       "    </tr>\n",
       "    <tr>\n",
       "      <th>7</th>\n",
       "      <td>Washington Navel</td>\n",
       "      <td>14</td>\n",
       "    </tr>\n",
       "    <tr>\n",
       "      <th>8</th>\n",
       "      <td>Satsuma Mandarin</td>\n",
       "      <td>13</td>\n",
       "    </tr>\n",
       "    <tr>\n",
       "      <th>9</th>\n",
       "      <td>Ortanique (Hybrid)</td>\n",
       "      <td>13</td>\n",
       "    </tr>\n",
       "    <tr>\n",
       "      <th>10</th>\n",
       "      <td>Minneola (Hybrid)</td>\n",
       "      <td>12</td>\n",
       "    </tr>\n",
       "    <tr>\n",
       "      <th>11</th>\n",
       "      <td>Jaffa</td>\n",
       "      <td>11</td>\n",
       "    </tr>\n",
       "    <tr>\n",
       "      <th>12</th>\n",
       "      <td>Ambiance</td>\n",
       "      <td>11</td>\n",
       "    </tr>\n",
       "    <tr>\n",
       "      <th>13</th>\n",
       "      <td>Valencia</td>\n",
       "      <td>11</td>\n",
       "    </tr>\n",
       "  </tbody>\n",
       "</table>\n",
       "</div>"
      ],
      "text/plain": [
       "                 index  Variety\n",
       "0            Cara Cara       21\n",
       "1               Temple       18\n",
       "2            Star Ruby       18\n",
       "3                Navel       16\n",
       "4         Moro (Blood)       16\n",
       "5            Tangerine       14\n",
       "6           Clementine       14\n",
       "7     Washington Navel       14\n",
       "8     Satsuma Mandarin       13\n",
       "9   Ortanique (Hybrid)       13\n",
       "10   Minneola (Hybrid)       12\n",
       "11               Jaffa       11\n",
       "12            Ambiance       11\n",
       "13            Valencia       11"
      ]
     },
     "execution_count": 13,
     "metadata": {},
     "output_type": "execute_result"
    }
   ],
   "source": [
    "variety = variety[(variety['Variety']>7)]\n",
    "variety"
   ]
  },
  {
   "cell_type": "code",
   "execution_count": 14,
   "metadata": {},
   "outputs": [
    {
     "data": {
      "text/html": [
       "<div>\n",
       "<style scoped>\n",
       "    .dataframe tbody tr th:only-of-type {\n",
       "        vertical-align: middle;\n",
       "    }\n",
       "\n",
       "    .dataframe tbody tr th {\n",
       "        vertical-align: top;\n",
       "    }\n",
       "\n",
       "    .dataframe thead th {\n",
       "        text-align: right;\n",
       "    }\n",
       "</style>\n",
       "<table border=\"1\" class=\"dataframe\">\n",
       "  <thead>\n",
       "    <tr style=\"text-align: right;\">\n",
       "      <th></th>\n",
       "      <th>Size (cm)</th>\n",
       "      <th>Weight (g)</th>\n",
       "      <th>Brix (Sweetness)</th>\n",
       "      <th>pH (Acidity)</th>\n",
       "      <th>Softness (1-5)</th>\n",
       "      <th>HarvestTime (days)</th>\n",
       "      <th>Ripeness (1-5)</th>\n",
       "      <th>Color</th>\n",
       "      <th>Variety</th>\n",
       "      <th>Blemishes (Y/N)</th>\n",
       "      <th>Quality (1-5)</th>\n",
       "    </tr>\n",
       "  </thead>\n",
       "  <tbody>\n",
       "    <tr>\n",
       "      <th>0</th>\n",
       "      <td>7.5</td>\n",
       "      <td>180</td>\n",
       "      <td>12.0</td>\n",
       "      <td>3.2</td>\n",
       "      <td>2.0</td>\n",
       "      <td>10</td>\n",
       "      <td>4.0</td>\n",
       "      <td>Orange</td>\n",
       "      <td>Valencia</td>\n",
       "      <td>N</td>\n",
       "      <td>4.0</td>\n",
       "    </tr>\n",
       "    <tr>\n",
       "      <th>1</th>\n",
       "      <td>8.2</td>\n",
       "      <td>220</td>\n",
       "      <td>10.5</td>\n",
       "      <td>3.4</td>\n",
       "      <td>3.0</td>\n",
       "      <td>14</td>\n",
       "      <td>4.5</td>\n",
       "      <td>Deep Orange</td>\n",
       "      <td>Navel</td>\n",
       "      <td>N</td>\n",
       "      <td>4.5</td>\n",
       "    </tr>\n",
       "    <tr>\n",
       "      <th>2</th>\n",
       "      <td>6.8</td>\n",
       "      <td>150</td>\n",
       "      <td>14.0</td>\n",
       "      <td>3.0</td>\n",
       "      <td>1.0</td>\n",
       "      <td>7</td>\n",
       "      <td>5.0</td>\n",
       "      <td>Light Orange</td>\n",
       "      <td>Cara Cara</td>\n",
       "      <td>N</td>\n",
       "      <td>5.0</td>\n",
       "    </tr>\n",
       "    <tr>\n",
       "      <th>5</th>\n",
       "      <td>6.7</td>\n",
       "      <td>126</td>\n",
       "      <td>9.1</td>\n",
       "      <td>3.0</td>\n",
       "      <td>2.0</td>\n",
       "      <td>25</td>\n",
       "      <td>2.0</td>\n",
       "      <td>Orange</td>\n",
       "      <td>Navel</td>\n",
       "      <td>N</td>\n",
       "      <td>1.0</td>\n",
       "    </tr>\n",
       "    <tr>\n",
       "      <th>8</th>\n",
       "      <td>8.8</td>\n",
       "      <td>240</td>\n",
       "      <td>7.5</td>\n",
       "      <td>4.0</td>\n",
       "      <td>5.0</td>\n",
       "      <td>18</td>\n",
       "      <td>3.0</td>\n",
       "      <td>Deep Orange</td>\n",
       "      <td>Moro (Blood)</td>\n",
       "      <td>Y (Sunburn)</td>\n",
       "      <td>3.0</td>\n",
       "    </tr>\n",
       "    <tr>\n",
       "      <th>...</th>\n",
       "      <td>...</td>\n",
       "      <td>...</td>\n",
       "      <td>...</td>\n",
       "      <td>...</td>\n",
       "      <td>...</td>\n",
       "      <td>...</td>\n",
       "      <td>...</td>\n",
       "      <td>...</td>\n",
       "      <td>...</td>\n",
       "      <td>...</td>\n",
       "      <td>...</td>\n",
       "    </tr>\n",
       "    <tr>\n",
       "      <th>236</th>\n",
       "      <td>8.0</td>\n",
       "      <td>194</td>\n",
       "      <td>10.9</td>\n",
       "      <td>3.6</td>\n",
       "      <td>5.0</td>\n",
       "      <td>13</td>\n",
       "      <td>1.0</td>\n",
       "      <td>Orange-Red</td>\n",
       "      <td>Tangerine</td>\n",
       "      <td>Y (Scars)</td>\n",
       "      <td>5.0</td>\n",
       "    </tr>\n",
       "    <tr>\n",
       "      <th>237</th>\n",
       "      <td>7.4</td>\n",
       "      <td>275</td>\n",
       "      <td>8.5</td>\n",
       "      <td>3.5</td>\n",
       "      <td>5.0</td>\n",
       "      <td>20</td>\n",
       "      <td>5.0</td>\n",
       "      <td>Light Orange</td>\n",
       "      <td>Minneola (Hybrid)</td>\n",
       "      <td>N</td>\n",
       "      <td>4.0</td>\n",
       "    </tr>\n",
       "    <tr>\n",
       "      <th>238</th>\n",
       "      <td>7.5</td>\n",
       "      <td>196</td>\n",
       "      <td>15.7</td>\n",
       "      <td>3.0</td>\n",
       "      <td>3.0</td>\n",
       "      <td>13</td>\n",
       "      <td>3.0</td>\n",
       "      <td>Deep Orange</td>\n",
       "      <td>Temple</td>\n",
       "      <td>Y (Minor Insect Damage)</td>\n",
       "      <td>5.0</td>\n",
       "    </tr>\n",
       "    <tr>\n",
       "      <th>239</th>\n",
       "      <td>7.2</td>\n",
       "      <td>251</td>\n",
       "      <td>9.8</td>\n",
       "      <td>4.3</td>\n",
       "      <td>3.0</td>\n",
       "      <td>23</td>\n",
       "      <td>1.0</td>\n",
       "      <td>Light Orange</td>\n",
       "      <td>Moro (Blood)</td>\n",
       "      <td>Y (Minor Insect Damage)</td>\n",
       "      <td>3.0</td>\n",
       "    </tr>\n",
       "    <tr>\n",
       "      <th>240</th>\n",
       "      <td>7.3</td>\n",
       "      <td>282</td>\n",
       "      <td>10.5</td>\n",
       "      <td>2.9</td>\n",
       "      <td>4.0</td>\n",
       "      <td>21</td>\n",
       "      <td>2.0</td>\n",
       "      <td>Orange-Red</td>\n",
       "      <td>Jaffa</td>\n",
       "      <td>Y (Minor)</td>\n",
       "      <td>4.0</td>\n",
       "    </tr>\n",
       "  </tbody>\n",
       "</table>\n",
       "<p>202 rows × 11 columns</p>\n",
       "</div>"
      ],
      "text/plain": [
       "     Size (cm)  Weight (g)  Brix (Sweetness)  pH (Acidity)  Softness (1-5)  \\\n",
       "0          7.5         180              12.0           3.2             2.0   \n",
       "1          8.2         220              10.5           3.4             3.0   \n",
       "2          6.8         150              14.0           3.0             1.0   \n",
       "5          6.7         126               9.1           3.0             2.0   \n",
       "8          8.8         240               7.5           4.0             5.0   \n",
       "..         ...         ...               ...           ...             ...   \n",
       "236        8.0         194              10.9           3.6             5.0   \n",
       "237        7.4         275               8.5           3.5             5.0   \n",
       "238        7.5         196              15.7           3.0             3.0   \n",
       "239        7.2         251               9.8           4.3             3.0   \n",
       "240        7.3         282              10.5           2.9             4.0   \n",
       "\n",
       "     HarvestTime (days)  Ripeness (1-5)         Color            Variety  \\\n",
       "0                    10             4.0        Orange           Valencia   \n",
       "1                    14             4.5   Deep Orange              Navel   \n",
       "2                     7             5.0  Light Orange          Cara Cara   \n",
       "5                    25             2.0        Orange              Navel   \n",
       "8                    18             3.0   Deep Orange       Moro (Blood)   \n",
       "..                  ...             ...           ...                ...   \n",
       "236                  13             1.0    Orange-Red          Tangerine   \n",
       "237                  20             5.0  Light Orange  Minneola (Hybrid)   \n",
       "238                  13             3.0   Deep Orange             Temple   \n",
       "239                  23             1.0  Light Orange       Moro (Blood)   \n",
       "240                  21             2.0    Orange-Red              Jaffa   \n",
       "\n",
       "             Blemishes (Y/N)  Quality (1-5)  \n",
       "0                          N            4.0  \n",
       "1                          N            4.5  \n",
       "2                          N            5.0  \n",
       "5                          N            1.0  \n",
       "8                Y (Sunburn)            3.0  \n",
       "..                       ...            ...  \n",
       "236                Y (Scars)            5.0  \n",
       "237                        N            4.0  \n",
       "238  Y (Minor Insect Damage)            5.0  \n",
       "239  Y (Minor Insect Damage)            3.0  \n",
       "240                Y (Minor)            4.0  \n",
       "\n",
       "[202 rows x 11 columns]"
      ]
     },
     "execution_count": 14,
     "metadata": {},
     "output_type": "execute_result"
    }
   ],
   "source": [
    "df = df[df.groupby('Variety')['Variety'].transform('count').ge(11)]\n",
    "df"
   ]
  },
  {
   "cell_type": "markdown",
   "metadata": {},
   "source": [
    "### Obtendo dados de doçura e qualidade da nossa nova tabela:"
   ]
  },
  {
   "cell_type": "code",
   "execution_count": 15,
   "metadata": {},
   "outputs": [
    {
     "data": {
      "text/plain": [
       "Variety\n",
       "Ambiance              11.563636\n",
       "Cara Cara              9.371429\n",
       "Clementine            11.371429\n",
       "Jaffa                 10.027273\n",
       "Minneola (Hybrid)     10.258333\n",
       "Moro (Blood)           9.943750\n",
       "Navel                 10.712500\n",
       "Ortanique (Hybrid)    10.446154\n",
       "Satsuma Mandarin      12.892308\n",
       "Star Ruby             10.322222\n",
       "Tangerine             12.364286\n",
       "Temple                11.016667\n",
       "Valencia              12.354545\n",
       "Washington Navel      12.057143\n",
       "Name: Brix (Sweetness), dtype: float64"
      ]
     },
     "execution_count": 15,
     "metadata": {},
     "output_type": "execute_result"
    }
   ],
   "source": [
    "df.groupby('Variety')['Brix (Sweetness)'].mean()"
   ]
  },
  {
   "cell_type": "code",
   "execution_count": 16,
   "metadata": {},
   "outputs": [
    {
     "data": {
      "text/plain": [
       "Variety\n",
       "Ambiance              3.954545\n",
       "Cara Cara             3.190476\n",
       "Clementine            3.678571\n",
       "Jaffa                 4.000000\n",
       "Minneola (Hybrid)     3.541667\n",
       "Moro (Blood)          3.531250\n",
       "Navel                 3.281250\n",
       "Ortanique (Hybrid)    4.076923\n",
       "Satsuma Mandarin      4.038462\n",
       "Star Ruby             3.611111\n",
       "Tangerine             4.357143\n",
       "Temple                3.638889\n",
       "Valencia              3.863636\n",
       "Washington Navel      4.000000\n",
       "Name: Quality (1-5), dtype: float64"
      ]
     },
     "execution_count": 16,
     "metadata": {},
     "output_type": "execute_result"
    }
   ],
   "source": [
    "df.groupby('Variety')['Quality (1-5)'].mean()"
   ]
  },
  {
   "cell_type": "markdown",
   "metadata": {},
   "source": [
    "<h1> Finalizando essa parte temos as seguintes  informações:</h1>\n",
    " <ul>\n",
    "    <li> Remoção dos dados de variedades com baixa frequência</li>\n",
    "    <li> Observações de dados de ce Brix e Quality</li>\n",
    "</ul>"
   ]
  },
  {
   "cell_type": "markdown",
   "metadata": {},
   "source": [
    "<hr>"
   ]
  },
  {
   "cell_type": "markdown",
   "metadata": {},
   "source": [
    "# Filtragem dos dados: Busca por valores nulos"
   ]
  },
  {
   "cell_type": "code",
   "execution_count": 17,
   "metadata": {},
   "outputs": [
    {
     "data": {
      "text/plain": [
       "Size (cm)             0\n",
       "Weight (g)            0\n",
       "Brix (Sweetness)      0\n",
       "pH (Acidity)          0\n",
       "Softness (1-5)        0\n",
       "HarvestTime (days)    0\n",
       "Ripeness (1-5)        0\n",
       "Color                 0\n",
       "Variety               0\n",
       "Blemishes (Y/N)       0\n",
       "Quality (1-5)         0\n",
       "dtype: int64"
      ]
     },
     "execution_count": 17,
     "metadata": {},
     "output_type": "execute_result"
    }
   ],
   "source": [
    "df.isnull().sum()"
   ]
  },
  {
   "cell_type": "markdown",
   "metadata": {},
   "source": [
    "<hr>"
   ]
  },
  {
   "cell_type": "markdown",
   "metadata": {},
   "source": [
    "## Analise sobre a variedade das laranjas"
   ]
  },
  {
   "cell_type": "code",
   "execution_count": 18,
   "metadata": {},
   "outputs": [],
   "source": [
    "mapeamento = {\n",
    "    'Valencia' : 1,\n",
    "    'Navel' : 2,\n",
    "    'Cara Cara' : 3,\n",
    "    'Blood Orange': 4,\n",
    "    'Hamlin' : 5,\n",
    "    'Tangelo (Hybrid)' : 6,\n",
    "    'Murcott (Hybrid)' : 7,\n",
    "    'Moro (Blood)' : 8,\n",
    "    'Jaffa' : 9,\n",
    "    'Clementine' : 10,\n",
    "    'Washington Navel': 11,\n",
    "    'Star Ruby' : 12,\n",
    "    'Tangerine' : 13,\n",
    "    'Ambiance' : 14,\n",
    "    'California Valencia' : 15,\n",
    "    'Honey Tangerine' : 16,\n",
    "    'Navel (Late Season)' : 17,\n",
    "    'Clementine (Seedless)' : 18,\n",
    "    'Temple' : 19,\n",
    "    'Minneola (Hybrid)' : 20,\n",
    "    'Satsuma Mandarin' : 21,\n",
    "    'Midsweet (Hybrid)' : 22,\n",
    "    'Navel (Early Season)' : 23,\n",
    "    'Ortanique (Hybrid)': 24,\n",
    "}"
   ]
  },
  {
   "cell_type": "markdown",
   "metadata": {},
   "source": [
    "_Acima um dicionario foi criado para mapear as variedades das laranjas, coluna \"Variety\"._<br>\n",
    "_Após criar o dicionário, logo abaixo, foi criado uma nova coluna \"Índice Variety\" com este mapeamento._"
   ]
  },
  {
   "cell_type": "code",
   "execution_count": 19,
   "metadata": {
    "scrolled": true,
    "tags": []
   },
   "outputs": [
    {
     "data": {
      "text/html": [
       "<div>\n",
       "<style scoped>\n",
       "    .dataframe tbody tr th:only-of-type {\n",
       "        vertical-align: middle;\n",
       "    }\n",
       "\n",
       "    .dataframe tbody tr th {\n",
       "        vertical-align: top;\n",
       "    }\n",
       "\n",
       "    .dataframe thead th {\n",
       "        text-align: right;\n",
       "    }\n",
       "</style>\n",
       "<table border=\"1\" class=\"dataframe\">\n",
       "  <thead>\n",
       "    <tr style=\"text-align: right;\">\n",
       "      <th></th>\n",
       "      <th>Size (cm)</th>\n",
       "      <th>Weight (g)</th>\n",
       "      <th>Brix (Sweetness)</th>\n",
       "      <th>pH (Acidity)</th>\n",
       "      <th>Softness (1-5)</th>\n",
       "      <th>HarvestTime (days)</th>\n",
       "      <th>Ripeness (1-5)</th>\n",
       "      <th>Color</th>\n",
       "      <th>Variety</th>\n",
       "      <th>Blemishes (Y/N)</th>\n",
       "      <th>Quality (1-5)</th>\n",
       "      <th>Índice Variety</th>\n",
       "    </tr>\n",
       "  </thead>\n",
       "  <tbody>\n",
       "    <tr>\n",
       "      <th>0</th>\n",
       "      <td>7.5</td>\n",
       "      <td>180</td>\n",
       "      <td>12.0</td>\n",
       "      <td>3.2</td>\n",
       "      <td>2.0</td>\n",
       "      <td>10</td>\n",
       "      <td>4.0</td>\n",
       "      <td>Orange</td>\n",
       "      <td>Valencia</td>\n",
       "      <td>N</td>\n",
       "      <td>4.0</td>\n",
       "      <td>1</td>\n",
       "    </tr>\n",
       "    <tr>\n",
       "      <th>1</th>\n",
       "      <td>8.2</td>\n",
       "      <td>220</td>\n",
       "      <td>10.5</td>\n",
       "      <td>3.4</td>\n",
       "      <td>3.0</td>\n",
       "      <td>14</td>\n",
       "      <td>4.5</td>\n",
       "      <td>Deep Orange</td>\n",
       "      <td>Navel</td>\n",
       "      <td>N</td>\n",
       "      <td>4.5</td>\n",
       "      <td>2</td>\n",
       "    </tr>\n",
       "    <tr>\n",
       "      <th>2</th>\n",
       "      <td>6.8</td>\n",
       "      <td>150</td>\n",
       "      <td>14.0</td>\n",
       "      <td>3.0</td>\n",
       "      <td>1.0</td>\n",
       "      <td>7</td>\n",
       "      <td>5.0</td>\n",
       "      <td>Light Orange</td>\n",
       "      <td>Cara Cara</td>\n",
       "      <td>N</td>\n",
       "      <td>5.0</td>\n",
       "      <td>3</td>\n",
       "    </tr>\n",
       "    <tr>\n",
       "      <th>5</th>\n",
       "      <td>6.7</td>\n",
       "      <td>126</td>\n",
       "      <td>9.1</td>\n",
       "      <td>3.0</td>\n",
       "      <td>2.0</td>\n",
       "      <td>25</td>\n",
       "      <td>2.0</td>\n",
       "      <td>Orange</td>\n",
       "      <td>Navel</td>\n",
       "      <td>N</td>\n",
       "      <td>1.0</td>\n",
       "      <td>2</td>\n",
       "    </tr>\n",
       "    <tr>\n",
       "      <th>8</th>\n",
       "      <td>8.8</td>\n",
       "      <td>240</td>\n",
       "      <td>7.5</td>\n",
       "      <td>4.0</td>\n",
       "      <td>5.0</td>\n",
       "      <td>18</td>\n",
       "      <td>3.0</td>\n",
       "      <td>Deep Orange</td>\n",
       "      <td>Moro (Blood)</td>\n",
       "      <td>Y (Sunburn)</td>\n",
       "      <td>3.0</td>\n",
       "      <td>8</td>\n",
       "    </tr>\n",
       "    <tr>\n",
       "      <th>...</th>\n",
       "      <td>...</td>\n",
       "      <td>...</td>\n",
       "      <td>...</td>\n",
       "      <td>...</td>\n",
       "      <td>...</td>\n",
       "      <td>...</td>\n",
       "      <td>...</td>\n",
       "      <td>...</td>\n",
       "      <td>...</td>\n",
       "      <td>...</td>\n",
       "      <td>...</td>\n",
       "      <td>...</td>\n",
       "    </tr>\n",
       "    <tr>\n",
       "      <th>236</th>\n",
       "      <td>8.0</td>\n",
       "      <td>194</td>\n",
       "      <td>10.9</td>\n",
       "      <td>3.6</td>\n",
       "      <td>5.0</td>\n",
       "      <td>13</td>\n",
       "      <td>1.0</td>\n",
       "      <td>Orange-Red</td>\n",
       "      <td>Tangerine</td>\n",
       "      <td>Y (Scars)</td>\n",
       "      <td>5.0</td>\n",
       "      <td>13</td>\n",
       "    </tr>\n",
       "    <tr>\n",
       "      <th>237</th>\n",
       "      <td>7.4</td>\n",
       "      <td>275</td>\n",
       "      <td>8.5</td>\n",
       "      <td>3.5</td>\n",
       "      <td>5.0</td>\n",
       "      <td>20</td>\n",
       "      <td>5.0</td>\n",
       "      <td>Light Orange</td>\n",
       "      <td>Minneola (Hybrid)</td>\n",
       "      <td>N</td>\n",
       "      <td>4.0</td>\n",
       "      <td>20</td>\n",
       "    </tr>\n",
       "    <tr>\n",
       "      <th>238</th>\n",
       "      <td>7.5</td>\n",
       "      <td>196</td>\n",
       "      <td>15.7</td>\n",
       "      <td>3.0</td>\n",
       "      <td>3.0</td>\n",
       "      <td>13</td>\n",
       "      <td>3.0</td>\n",
       "      <td>Deep Orange</td>\n",
       "      <td>Temple</td>\n",
       "      <td>Y (Minor Insect Damage)</td>\n",
       "      <td>5.0</td>\n",
       "      <td>19</td>\n",
       "    </tr>\n",
       "    <tr>\n",
       "      <th>239</th>\n",
       "      <td>7.2</td>\n",
       "      <td>251</td>\n",
       "      <td>9.8</td>\n",
       "      <td>4.3</td>\n",
       "      <td>3.0</td>\n",
       "      <td>23</td>\n",
       "      <td>1.0</td>\n",
       "      <td>Light Orange</td>\n",
       "      <td>Moro (Blood)</td>\n",
       "      <td>Y (Minor Insect Damage)</td>\n",
       "      <td>3.0</td>\n",
       "      <td>8</td>\n",
       "    </tr>\n",
       "    <tr>\n",
       "      <th>240</th>\n",
       "      <td>7.3</td>\n",
       "      <td>282</td>\n",
       "      <td>10.5</td>\n",
       "      <td>2.9</td>\n",
       "      <td>4.0</td>\n",
       "      <td>21</td>\n",
       "      <td>2.0</td>\n",
       "      <td>Orange-Red</td>\n",
       "      <td>Jaffa</td>\n",
       "      <td>Y (Minor)</td>\n",
       "      <td>4.0</td>\n",
       "      <td>9</td>\n",
       "    </tr>\n",
       "  </tbody>\n",
       "</table>\n",
       "<p>202 rows × 12 columns</p>\n",
       "</div>"
      ],
      "text/plain": [
       "     Size (cm)  Weight (g)  Brix (Sweetness)  pH (Acidity)  Softness (1-5)  \\\n",
       "0          7.5         180              12.0           3.2             2.0   \n",
       "1          8.2         220              10.5           3.4             3.0   \n",
       "2          6.8         150              14.0           3.0             1.0   \n",
       "5          6.7         126               9.1           3.0             2.0   \n",
       "8          8.8         240               7.5           4.0             5.0   \n",
       "..         ...         ...               ...           ...             ...   \n",
       "236        8.0         194              10.9           3.6             5.0   \n",
       "237        7.4         275               8.5           3.5             5.0   \n",
       "238        7.5         196              15.7           3.0             3.0   \n",
       "239        7.2         251               9.8           4.3             3.0   \n",
       "240        7.3         282              10.5           2.9             4.0   \n",
       "\n",
       "     HarvestTime (days)  Ripeness (1-5)         Color            Variety  \\\n",
       "0                    10             4.0        Orange           Valencia   \n",
       "1                    14             4.5   Deep Orange              Navel   \n",
       "2                     7             5.0  Light Orange          Cara Cara   \n",
       "5                    25             2.0        Orange              Navel   \n",
       "8                    18             3.0   Deep Orange       Moro (Blood)   \n",
       "..                  ...             ...           ...                ...   \n",
       "236                  13             1.0    Orange-Red          Tangerine   \n",
       "237                  20             5.0  Light Orange  Minneola (Hybrid)   \n",
       "238                  13             3.0   Deep Orange             Temple   \n",
       "239                  23             1.0  Light Orange       Moro (Blood)   \n",
       "240                  21             2.0    Orange-Red              Jaffa   \n",
       "\n",
       "             Blemishes (Y/N)  Quality (1-5)  Índice Variety  \n",
       "0                          N            4.0               1  \n",
       "1                          N            4.5               2  \n",
       "2                          N            5.0               3  \n",
       "5                          N            1.0               2  \n",
       "8                Y (Sunburn)            3.0               8  \n",
       "..                       ...            ...             ...  \n",
       "236                Y (Scars)            5.0              13  \n",
       "237                        N            4.0              20  \n",
       "238  Y (Minor Insect Damage)            5.0              19  \n",
       "239  Y (Minor Insect Damage)            3.0               8  \n",
       "240                Y (Minor)            4.0               9  \n",
       "\n",
       "[202 rows x 12 columns]"
      ]
     },
     "metadata": {},
     "output_type": "display_data"
    }
   ],
   "source": [
    "df['Índice Variety'] = df['Variety'].map(mapeamento)\n",
    "display(df)"
   ]
  },
  {
   "cell_type": "code",
   "execution_count": 20,
   "metadata": {
    "tags": []
   },
   "outputs": [
    {
     "name": "stdout",
     "output_type": "stream",
     "text": [
      "Variedades de Laranja e suas Medias de Qualidade:\n",
      "Valencia: 4.0\n",
      "Navel: 4.5\n",
      "Cara Cara: 5.0\n",
      "Navel: 1.0\n",
      "Moro (Blood): 3.0\n",
      "Jaffa: 5.0\n",
      "Cara Cara: 2.5\n",
      "Valencia: 4.0\n",
      "Clementine: 4.5\n",
      "Washington Navel: 5.0\n",
      "Star Ruby: 4.0\n",
      "Tangerine: 5.0\n",
      "Ambiance: 3.5\n",
      "Cara Cara: 4.0\n",
      "Clementine: 2.0\n",
      "Jaffa: 4.5\n",
      "Moro (Blood): 2.0\n",
      "Cara Cara: 4.0\n",
      "Temple: 1.0\n",
      "Cara Cara: 3.0\n",
      "Minneola (Hybrid): 4.5\n",
      "Temple: 5.0\n",
      "Moro (Blood): 4.0\n",
      "Satsuma Mandarin: 5.0\n",
      "Cara Cara: 2.5\n",
      "Ambiance: 4.0\n",
      "Star Ruby: 4.5\n",
      "Tangerine: 5.0\n",
      "Ortanique (Hybrid): 4.5\n",
      "Washington Navel: 5.0\n",
      "Jaffa: 5.0\n",
      "Cara Cara: 4.5\n",
      "Moro (Blood): 3.0\n",
      "Temple: 5.0\n",
      "Satsuma Mandarin: 5.0\n",
      "Cara Cara: 2.0\n",
      "Ambiance: 4.0\n",
      "Star Ruby: 4.5\n",
      "Tangerine: 5.0\n",
      "Ortanique (Hybrid): 4.5\n",
      "Washington Navel: 5.0\n",
      "Cara Cara: 3.0\n",
      "Moro (Blood): 4.0\n",
      "Minneola (Hybrid): 3.5\n",
      "Cara Cara: 2.5\n",
      "Temple: 5.0\n",
      "Satsuma Mandarin: 5.0\n",
      "Washington Navel: 4.5\n",
      "Star Ruby: 3.0\n",
      "Tangerine: 5.0\n",
      "Cara Cara: 3.5\n",
      "Minneola (Hybrid): 3.5\n",
      "Moro (Blood): 3.0\n",
      "Temple: 5.0\n",
      "Washington Navel: 5.0\n",
      "Ambiance: 4.0\n",
      "Ortanique (Hybrid): 4.5\n",
      "Cara Cara: 2.5\n",
      "Tangerine: 5.0\n",
      "Moro (Blood): 4.0\n",
      "Temple: 5.0\n",
      "Satsuma Mandarin: 5.0\n",
      "Jaffa: 5.0\n",
      "Minneola (Hybrid): 4.5\n",
      "Clementine: 4.0\n",
      "Navel: 3.0\n",
      "Valencia: 2.0\n",
      "Clementine: 4.0\n",
      "Cara Cara: 4.0\n",
      "Jaffa: 2.0\n",
      "Clementine: 3.0\n",
      "Washington Navel: 5.0\n",
      "Star Ruby: 2.0\n",
      "Cara Cara: 4.0\n",
      "Navel: 2.0\n",
      "Navel: 2.0\n",
      "Ambiance: 5.0\n",
      "Ortanique (Hybrid): 4.0\n",
      "Temple: 3.0\n",
      "Navel: 4.0\n",
      "Temple: 3.0\n",
      "Star Ruby: 3.0\n",
      "Cara Cara: 2.0\n",
      "Satsuma Mandarin: 1.0\n",
      "Temple: 2.0\n",
      "Ambiance: 3.0\n",
      "Satsuma Mandarin: 5.0\n",
      "Minneola (Hybrid): 4.0\n",
      "Cara Cara: 4.0\n",
      "Minneola (Hybrid): 3.0\n",
      "Moro (Blood): 5.0\n",
      "Ortanique (Hybrid): 3.0\n",
      "Ortanique (Hybrid): 4.0\n",
      "Moro (Blood): 2.0\n",
      "Navel: 5.0\n",
      "Navel: 4.0\n",
      "Star Ruby: 3.0\n",
      "Washington Navel: 4.0\n",
      "Moro (Blood): 3.0\n",
      "Star Ruby: 4.0\n",
      "Ortanique (Hybrid): 4.0\n",
      "Ortanique (Hybrid): 4.0\n",
      "Ambiance: 4.0\n",
      "Clementine: 4.0\n",
      "Temple: 4.0\n",
      "Valencia: 5.0\n",
      "Tangerine: 3.5\n",
      "Washington Navel: 4.0\n",
      "Jaffa: 3.5\n",
      "Washington Navel: 4.0\n",
      "Tangerine: 4.0\n",
      "Temple: 1.0\n",
      "Tangerine: 3.5\n",
      "Valencia: 4.0\n",
      "Moro (Blood): 4.5\n",
      "Navel: 4.0\n",
      "Navel: 4.0\n",
      "Temple: 4.0\n",
      "Clementine: 4.0\n",
      "Washington Navel: 1.0\n",
      "Clementine: 5.0\n",
      "Cara Cara: 4.0\n",
      "Valencia: 4.0\n",
      "Jaffa: 3.5\n",
      "Valencia: 4.0\n",
      "Navel: 4.0\n",
      "Cara Cara: 2.5\n",
      "Satsuma Mandarin: 4.0\n",
      "Star Ruby: 4.0\n",
      "Moro (Blood): 4.0\n",
      "Temple: 4.0\n",
      "Ambiance: 4.0\n",
      "Jaffa: 3.5\n",
      "Ambiance: 4.0\n",
      "Moro (Blood): 4.0\n",
      "Navel: 4.0\n",
      "Temple: 2.5\n",
      "Jaffa: 3.0\n",
      "Valencia: 5.0\n",
      "Clementine: 5.0\n",
      "Tangerine: 3.5\n",
      "Satsuma Mandarin: 3.0\n",
      "Cara Cara: 2.5\n",
      "Ortanique (Hybrid): 4.5\n",
      "Jaffa: 5.0\n",
      "Star Ruby: 4.0\n",
      "Washington Navel: 5.0\n",
      "Washington Navel: 2.5\n",
      "Satsuma Mandarin: 4.0\n",
      "Tangerine: 4.0\n",
      "Star Ruby: 5.0\n",
      "Satsuma Mandarin: 4.5\n",
      "Star Ruby: 3.5\n",
      "Navel: 4.0\n",
      "Star Ruby: 5.0\n",
      "Star Ruby: 3.5\n",
      "Ortanique (Hybrid): 3.5\n",
      "Satsuma Mandarin: 4.0\n",
      "Temple: 4.0\n",
      "Star Ruby: 3.5\n",
      "Washington Navel: 1.0\n",
      "Clementine: 4.0\n",
      "Tangerine: 4.0\n",
      "Clementine: 2.5\n",
      "Minneola (Hybrid): 2.5\n",
      "Valencia: 4.0\n",
      "Navel: 2.0\n",
      "Ortanique (Hybrid): 4.0\n",
      "Washington Navel: 5.0\n",
      "Temple: 4.0\n",
      "Tangerine: 4.5\n",
      "Clementine: 4.0\n",
      "Minneola (Hybrid): 4.0\n",
      "Minneola (Hybrid): 1.0\n",
      "Ortanique (Hybrid): 4.5\n",
      "Satsuma Mandarin: 3.5\n",
      "Cara Cara: 4.0\n",
      "Valencia: 2.5\n",
      "Ortanique (Hybrid): 4.0\n",
      "Temple: 3.0\n",
      "Star Ruby: 3.5\n",
      "Minneola (Hybrid): 3.0\n",
      "Minneola (Hybrid): 5.0\n",
      "Clementine: 2.5\n",
      "Star Ruby: 2.0\n",
      "Navel: 4.0\n",
      "Ambiance: 4.0\n",
      "Satsuma Mandarin: 3.5\n",
      "Moro (Blood): 3.0\n",
      "Ambiance: 4.0\n",
      "Cara Cara: 1.0\n",
      "Moro (Blood): 5.0\n",
      "Star Ruby: 3.0\n",
      "Navel: 1.0\n",
      "Tangerine: 4.0\n",
      "Clementine: 3.0\n",
      "Valencia: 4.0\n",
      "Tangerine: 5.0\n",
      "Minneola (Hybrid): 4.0\n",
      "Temple: 5.0\n",
      "Moro (Blood): 3.0\n",
      "Jaffa: 4.0\n"
     ]
    }
   ],
   "source": [
    "variedades_qualidade = df[['Variety', 'Quality (1-5)']].values.tolist()\n",
    "\n",
    "print(\"Variedades de Laranja e suas Medias de Qualidade:\")\n",
    "for variedade, qualidade in variedades_qualidade:\n",
    "    print(f\"{variedade}: {qualidade}\")"
   ]
  },
  {
   "cell_type": "code",
   "execution_count": 21,
   "metadata": {},
   "outputs": [
    {
     "name": "stdout",
     "output_type": "stream",
     "text": [
      "Variedades de Laranja e a Média de Qualidade:\n",
      "Ambiance: 3.95\n",
      "Cara Cara: 3.19\n",
      "Clementine: 3.68\n",
      "Jaffa: 4.00\n",
      "Minneola (Hybrid): 3.54\n",
      "Moro (Blood): 3.53\n",
      "Navel: 3.28\n",
      "Ortanique (Hybrid): 4.08\n",
      "Satsuma Mandarin: 4.04\n",
      "Star Ruby: 3.61\n",
      "Tangerine: 4.36\n",
      "Temple: 3.64\n",
      "Valencia: 3.86\n",
      "Washington Navel: 4.00\n"
     ]
    }
   ],
   "source": [
    "media_qualidade = df.groupby('Variety')['Quality (1-5)'].mean()\n",
    "print(\"Variedades de Laranja e a Média de Qualidade:\")\n",
    "for variedade, media in media_qualidade.items():\n",
    "    print(f\"{variedade}: {media:.2f}\")\n"
   ]
  },
  {
   "cell_type": "markdown",
   "metadata": {},
   "source": [
    "# Qualidade em relação a variedade por ordem de melhor para pior"
   ]
  },
  {
   "cell_type": "code",
   "execution_count": 22,
   "metadata": {},
   "outputs": [
    {
     "name": "stdout",
     "output_type": "stream",
     "text": [
      "Variety\n",
      "Tangerine             4.357143\n",
      "Ortanique (Hybrid)    4.076923\n",
      "Satsuma Mandarin      4.038462\n",
      "Jaffa                 4.000000\n",
      "Washington Navel      4.000000\n",
      "Ambiance              3.954545\n",
      "Valencia              3.863636\n",
      "Clementine            3.678571\n",
      "Temple                3.638889\n",
      "Star Ruby             3.611111\n",
      "Minneola (Hybrid)     3.541667\n",
      "Moro (Blood)          3.531250\n",
      "Navel                 3.281250\n",
      "Cara Cara             3.190476\n",
      "Name: Quality (1-5), dtype: float64\n",
      "Top variedades em termos de qualidade: ['Tangerine', 'Ortanique (Hybrid)', 'Satsuma Mandarin']\n"
     ]
    }
   ],
   "source": [
    "varieties_quality = df.groupby('Variety')['Quality (1-5)'].mean().sort_values(ascending=False)\n",
    "print(varieties_quality)\n",
    "\n",
    "top_varieties = varieties_quality.head(3).index.tolist()\n",
    "print(f\"Top variedades em termos de qualidade: {top_varieties}\")\n"
   ]
  },
  {
   "cell_type": "markdown",
   "metadata": {},
   "source": [
    "_Acima vemos a média de cada variedade de laranja \"Variety\", comparada com a sua qualidade \"Quality (1-5)\"._"
   ]
  },
  {
   "cell_type": "code",
   "execution_count": 23,
   "metadata": {
    "scrolled": true
   },
   "outputs": [
    {
     "name": "stdout",
     "output_type": "stream",
     "text": [
      "Contagem de todas as variedades:\n",
      "Cara Cara             21\n",
      "Star Ruby             18\n",
      "Temple                18\n",
      "Navel                 16\n",
      "Moro (Blood)          16\n",
      "Clementine            14\n",
      "Washington Navel      14\n",
      "Tangerine             14\n",
      "Satsuma Mandarin      13\n",
      "Ortanique (Hybrid)    13\n",
      "Minneola (Hybrid)     12\n",
      "Valencia              11\n",
      "Jaffa                 11\n",
      "Ambiance              11\n",
      "Name: Variety, dtype: int64\n"
     ]
    }
   ],
   "source": [
    "contagem_variedades = df['Variety'].value_counts()\n",
    "\n",
    "print(\"Contagem de todas as variedades:\")\n",
    "print(contagem_variedades)"
   ]
  },
  {
   "cell_type": "markdown",
   "metadata": {},
   "source": [
    "# Insight importante para o produtor"
   ]
  },
  {
   "cell_type": "code",
   "execution_count": 24,
   "metadata": {},
   "outputs": [
    {
     "name": "stdout",
     "output_type": "stream",
     "text": [
      "Estatísticas descritivas das características das três melhores variedades:\n",
      "       Size (cm)  Weight (g)  Brix (Sweetness)  pH (Acidity)  \\\n",
      "count  40.000000   40.000000         40.000000      40.00000   \n",
      "mean    7.295000  189.025000         11.912500       3.50650   \n",
      "std     0.999731   64.625345          2.520804       0.44422   \n",
      "min     6.000000  100.000000          6.700000       2.80000   \n",
      "25%     6.375000  129.000000          9.800000       3.07500   \n",
      "50%     7.050000  183.500000         12.450000       3.52000   \n",
      "75%     8.225000  250.000000         14.025000       3.80000   \n",
      "max     9.200000  296.000000         15.900000       4.37000   \n",
      "\n",
      "       HarvestTime (days)  Ripeness (1-5)  Quality (1-5)  \n",
      "count           40.000000       40.000000      40.000000  \n",
      "mean            13.075000        3.525000       4.162500  \n",
      "std              6.120112        1.449801       0.787625  \n",
      "min              4.000000        1.000000       1.000000  \n",
      "25%              9.500000        2.750000       4.000000  \n",
      "50%             12.500000        4.000000       4.000000  \n",
      "75%             17.250000        5.000000       5.000000  \n",
      "max             25.000000        5.000000       5.000000  \n",
      "Matriz de correlação das características das três melhores variedades:\n",
      "                    Size (cm)  Weight (g)  Brix (Sweetness)  pH (Acidity)  \\\n",
      "Size (cm)            1.000000    0.389055         -0.129496      0.352791   \n",
      "Weight (g)           0.389055    1.000000         -0.051156      0.464551   \n",
      "Brix (Sweetness)    -0.129496   -0.051156          1.000000     -0.236749   \n",
      "pH (Acidity)         0.352791    0.464551         -0.236749      1.000000   \n",
      "HarvestTime (days)   0.333228    0.239605         -0.328146      0.340669   \n",
      "Ripeness (1-5)      -0.610239   -0.245898          0.259854     -0.351015   \n",
      "Quality (1-5)       -0.405987   -0.390486          0.568479     -0.322621   \n",
      "\n",
      "                    HarvestTime (days)  Ripeness (1-5)  Quality (1-5)  \n",
      "Size (cm)                     0.333228       -0.610239      -0.405987  \n",
      "Weight (g)                    0.239605       -0.245898      -0.390486  \n",
      "Brix (Sweetness)             -0.328146        0.259854       0.568479  \n",
      "pH (Acidity)                  0.340669       -0.351015      -0.322621  \n",
      "HarvestTime (days)            1.000000       -0.481368      -0.476013  \n",
      "Ripeness (1-5)               -0.481368        1.000000       0.372468  \n",
      "Quality (1-5)                -0.476013        0.372468       1.000000  \n"
     ]
    }
   ],
   "source": [
    "import pandas as pd\n",
    "from sklearn.preprocessing import LabelEncoder\n",
    "\n",
    "\n",
    "top_varieties_by_quality = df.groupby('Variety')['Quality (1-5)'].mean().nlargest(3).index\n",
    "df_top_varieties = df[df['Variety'].isin(top_varieties_by_quality)]\n",
    "\n",
    "features_of_interest = ['Size (cm)', 'Weight (g)', 'Brix (Sweetness)', 'pH (Acidity)', 'HarvestTime (days)', 'Ripeness (1-5)', 'Quality (1-5)']\n",
    "\n",
    "common_characteristics = df_top_varieties[features_of_interest]\n",
    "\n",
    "print(\"Estatísticas descritivas das características das três melhores variedades:\")\n",
    "print(common_characteristics.describe(include='all'))\n",
    "\n",
    "correlation_matrix = common_characteristics.corr()\n",
    "print(\"Matriz de correlação das características das três melhores variedades:\")\n",
    "print(correlation_matrix)\n"
   ]
  },
  {
   "cell_type": "markdown",
   "metadata": {},
   "source": [
    "# Insight importante para o consumidor"
   ]
  },
  {
   "cell_type": "code",
   "execution_count": 25,
   "metadata": {},
   "outputs": [
    {
     "name": "stdout",
     "output_type": "stream",
     "text": [
      "Estatísticas descritivas das características das três melhores variedades:\n",
      "       Size (cm)  Weight (g)  Softness (1-5)  Color_encoded  Brix (Sweetness)  \\\n",
      "count  40.000000   40.000000       40.000000      37.000000         40.000000   \n",
      "mean    7.295000  189.025000        3.012500       2.837838         11.912500   \n",
      "std     0.999731   64.625345        1.491375       0.833784          2.520804   \n",
      "min     6.000000  100.000000        1.000000       1.000000          6.700000   \n",
      "25%     6.375000  129.000000        1.500000       2.000000          9.800000   \n",
      "50%     7.050000  183.500000        3.000000       3.000000         12.450000   \n",
      "75%     8.225000  250.000000        4.000000       3.000000         14.025000   \n",
      "max     9.200000  296.000000        5.000000       4.000000         15.900000   \n",
      "\n",
      "       pH (Acidity)  Quality (1-5)  \n",
      "count      40.00000      40.000000  \n",
      "mean        3.50650       4.162500  \n",
      "std         0.44422       0.787625  \n",
      "min         2.80000       1.000000  \n",
      "25%         3.07500       4.000000  \n",
      "50%         3.52000       4.000000  \n",
      "75%         3.80000       5.000000  \n",
      "max         4.37000       5.000000  \n",
      "Matriz de correlação das características das três melhores variedades:\n",
      "                  Size (cm)  Weight (g)  Softness (1-5)  Color_encoded  \\\n",
      "Size (cm)          1.000000    0.389055        0.307878      -0.136594   \n",
      "Weight (g)         0.389055    1.000000        0.306873      -0.085362   \n",
      "Softness (1-5)     0.307878    0.306873        1.000000       0.190529   \n",
      "Color_encoded     -0.136594   -0.085362        0.190529       1.000000   \n",
      "Brix (Sweetness)  -0.129496   -0.051156       -0.345155      -0.291531   \n",
      "pH (Acidity)       0.352791    0.464551        0.207325      -0.234476   \n",
      "Quality (1-5)     -0.405987   -0.390486       -0.476549       0.012729   \n",
      "\n",
      "                  Brix (Sweetness)  pH (Acidity)  Quality (1-5)  \n",
      "Size (cm)                -0.129496      0.352791      -0.405987  \n",
      "Weight (g)               -0.051156      0.464551      -0.390486  \n",
      "Softness (1-5)           -0.345155      0.207325      -0.476549  \n",
      "Color_encoded            -0.291531     -0.234476       0.012729  \n",
      "Brix (Sweetness)          1.000000     -0.236749       0.568479  \n",
      "pH (Acidity)             -0.236749      1.000000      -0.322621  \n",
      "Quality (1-5)             0.568479     -0.322621       1.000000  \n"
     ]
    },
    {
     "name": "stderr",
     "output_type": "stream",
     "text": [
      "/tmp/ipykernel_1317/292432527.py:9: SettingWithCopyWarning: \n",
      "A value is trying to be set on a copy of a slice from a DataFrame.\n",
      "Try using .loc[row_indexer,col_indexer] = value instead\n",
      "\n",
      "See the caveats in the documentation: https://pandas.pydata.org/pandas-docs/stable/user_guide/indexing.html#returning-a-view-versus-a-copy\n",
      "  df_top_varieties['Color_encoded'] = df_top_varieties['Color'].map(color_dict)\n"
     ]
    }
   ],
   "source": [
    "color_dict = {\n",
    "    'Orange': 1,\n",
    "    'Deep Orange': 2,\n",
    "    'Light Orange': 3,\n",
    "    'Orange-Red': 4,\n",
    "    'Yellow-Orange ': 5\n",
    "}\n",
    "\n",
    "df_top_varieties['Color_encoded'] = df_top_varieties['Color'].map(color_dict)\n",
    "\n",
    "features_of_interest = ['Size (cm)', 'Weight (g)', 'Softness (1-5)', 'Color_encoded', 'Brix (Sweetness)', 'pH (Acidity)','Quality (1-5)']\n",
    "\n",
    "common_characteristics = df_top_varieties[features_of_interest]\n",
    "\n",
    "print(\"Estatísticas descritivas das características das três melhores variedades:\")\n",
    "print(common_characteristics.describe(include='all'))\n",
    "\n",
    "correlation_matrix = common_characteristics.corr()\n",
    "print(\"Matriz de correlação das características das três melhores variedades:\")\n",
    "print(correlation_matrix)"
   ]
  },
  {
   "cell_type": "code",
   "execution_count": 26,
   "metadata": {},
   "outputs": [
    {
     "data": {
      "text/plain": [
       "Color\n",
       "Deep Orange      4.287879\n",
       "Light Orange     3.098214\n",
       "Orange           3.437500\n",
       "Orange-Red       3.750000\n",
       "Yellow-Orange    4.250000\n",
       "Name: Quality (1-5), dtype: float64"
      ]
     },
     "execution_count": 26,
     "metadata": {},
     "output_type": "execute_result"
    }
   ],
   "source": [
    "df.groupby('Color')['Quality (1-5)'].mean()"
   ]
  },
  {
   "cell_type": "markdown",
   "metadata": {},
   "source": [
    "# Modelo de Classificação"
   ]
  },
  {
   "cell_type": "code",
   "execution_count": 27,
   "metadata": {},
   "outputs": [
    {
     "name": "stdout",
     "output_type": "stream",
     "text": [
      "### Classificação da Doçura (Brix) ###\n",
      "Acurácia do modelo: 0.73\n",
      "              precision    recall  f1-score   support\n",
      "\n",
      "           0       0.75      0.78      0.77        23\n",
      "           1       0.71      0.67      0.69        18\n",
      "\n",
      "    accuracy                           0.73        41\n",
      "   macro avg       0.73      0.72      0.73        41\n",
      "weighted avg       0.73      0.73      0.73        41\n",
      "\n",
      "[[18  5]\n",
      " [ 6 12]]\n",
      "### Classificação do pH (Acidity) ###\n",
      "Acurácia do modelo: 0.56\n",
      "              precision    recall  f1-score   support\n",
      "\n",
      "           0       0.54      0.37      0.44        19\n",
      "           1       0.57      0.73      0.64        22\n",
      "\n",
      "    accuracy                           0.56        41\n",
      "   macro avg       0.55      0.55      0.54        41\n",
      "weighted avg       0.56      0.56      0.55        41\n",
      "\n",
      "[[ 7 12]\n",
      " [ 6 16]]\n"
     ]
    }
   ],
   "source": [
    "import pandas as pd\n",
    "from sklearn.model_selection import train_test_split\n",
    "from sklearn.preprocessing import StandardScaler\n",
    "from sklearn.neighbors import KNeighborsClassifier\n",
    "from sklearn.metrics import classification_report, confusion_matrix, accuracy_score\n",
    "\n",
    "color_dict = {\n",
    "    'Orange': 1,\n",
    "    'Deep Orange': 2,\n",
    "    'Light Orange': 3,\n",
    "    'Orange-Red': 4,\n",
    "    'Yellow-Orange': 5\n",
    "}\n",
    "\n",
    "df['Color_encoded'] = df['Color'].map(color_dict)\n",
    "\n",
    "features = ['Color_encoded', 'Brix (Sweetness)', 'pH (Acidity)']\n",
    "data = df[features]\n",
    "\n",
    "scaler = StandardScaler()\n",
    "data_scaled = scaler.fit_transform(data)\n",
    "\n",
    "X = data_scaled[:, 0].reshape(-1, 1)  \n",
    "\n",
    "median_brix = data['Brix (Sweetness)'].median()\n",
    "y_brix = (data['Brix (Sweetness)'] > median_brix).astype(int)\n",
    "\n",
    "median_pH = data['pH (Acidity)'].median()\n",
    "y_pH = (data['pH (Acidity)'] < median_pH).astype(int)\n",
    "\n",
    "X_train, X_test, y_brix_train, y_brix_test = train_test_split(X, y_brix, test_size=0.2, random_state=42)\n",
    "_, _, y_pH_train, y_pH_test = train_test_split(X, y_pH, test_size=0.2, random_state=42)\n",
    "\n",
    "def train_and_evaluate(X_train, y_train, X_test, y_test):\n",
    "\n",
    "    model = KNeighborsClassifier(n_neighbors=5)\n",
    "    model.fit(X_train, y_train)\n",
    "    \n",
    "    y_pred = model.predict(X_test)\n",
    "\n",
    "    accuracy = accuracy_score(y_test, y_pred)\n",
    "    print(f'Acurácia do modelo: {accuracy:.2f}')\n",
    "    print(classification_report(y_test, y_pred))\n",
    "    print(confusion_matrix(y_test, y_pred))\n",
    "\n",
    "print(\"### Classificação da Doçura (Brix) ###\")\n",
    "train_and_evaluate(X_train, y_brix_train, X_test, y_brix_test)\n",
    "\n",
    "print(\"### Classificação do pH (Acidity) ###\")\n",
    "train_and_evaluate(X_train, y_pH_train, X_test, y_pH_test)\n"
   ]
  },
  {
   "cell_type": "markdown",
   "metadata": {},
   "source": [
    "_Vemos acima quantas ocorrências temos para cada variedade de laranja \"Variety\"._"
   ]
  },
  {
   "cell_type": "code",
   "execution_count": 28,
   "metadata": {
    "tags": []
   },
   "outputs": [
    {
     "name": "stdout",
     "output_type": "stream",
     "text": [
      "Variedades com contagem de 11 ou mais:\n",
      "Index(['Cara Cara', 'Star Ruby', 'Temple', 'Navel', 'Moro (Blood)',\n",
      "       'Clementine', 'Washington Navel', 'Tangerine', 'Satsuma Mandarin',\n",
      "       'Ortanique (Hybrid)', 'Minneola (Hybrid)', 'Valencia', 'Jaffa',\n",
      "       'Ambiance'],\n",
      "      dtype='object')\n"
     ]
    }
   ],
   "source": [
    "df_apenas_maiores_11 = contagem_variedades[contagem_variedades >= 11].index\n",
    "\n",
    "print(\"Variedades com contagem de 11 ou mais:\")\n",
    "print(df_apenas_maiores_11)"
   ]
  },
  {
   "cell_type": "code",
   "execution_count": 29,
   "metadata": {
    "tags": []
   },
   "outputs": [
    {
     "name": "stdout",
     "output_type": "stream",
     "text": [
      "Variedades de Laranja e a Média de Qualidade:\n",
      "Ambiance: 3.95\n",
      "Cara Cara: 3.19\n",
      "Clementine: 3.68\n",
      "Jaffa: 4.00\n",
      "Minneola (Hybrid): 3.54\n",
      "Moro (Blood): 3.53\n",
      "Navel: 3.28\n",
      "Ortanique (Hybrid): 4.08\n",
      "Satsuma Mandarin: 4.04\n",
      "Star Ruby: 3.61\n",
      "Tangerine: 4.36\n",
      "Temple: 3.64\n",
      "Valencia: 3.86\n",
      "Washington Navel: 4.00\n"
     ]
    }
   ],
   "source": [
    "import pandas as pd\n",
    "\n",
    "# Supondo que o DataFrame original se chama df e contém as colunas 'Variety' e 'Quality (1-5)'\n",
    "# E que df_apenas_menores_11 é uma lista com os nomes das variedades que ocorrem menos de 11 vezes\n",
    "varieties_under_11 = df_apenas_maiores_11\n",
    "\n",
    "# Criar um novo DataFrame com as colunas 'Variety' e 'Quality (1-5)'\n",
    "df_filtered = pd.DataFrame({\n",
    "    'Variety': df['Variety'],\n",
    "    'Quality (1-5)': df['Quality (1-5)']\n",
    "})\n",
    "\n",
    "# Filtrar o DataFrame para incluir apenas as variedades que estão na lista de menos de 11 vezes\n",
    "df_filtered = df_filtered[df_filtered['Variety'].isin(varieties_under_11)]\n",
    "\n",
    "# Calculando a média de qualidade por variedade\n",
    "media_qualidade = df_filtered.groupby('Variety')['Quality (1-5)'].mean()\n",
    "\n",
    "print(\"Variedades de Laranja e a Média de Qualidade:\")\n",
    "for variedade, media in media_qualidade.items():\n",
    "    print(f\"{variedade}: {media:.2f}\")\n"
   ]
  },
  {
   "cell_type": "markdown",
   "metadata": {},
   "source": [
    "# Analise Grafica"
   ]
  },
  {
   "cell_type": "markdown",
   "metadata": {},
   "source": [
    "<h2> 1. Medianas </h2>"
   ]
  },
  {
   "cell_type": "code",
   "execution_count": 30,
   "metadata": {
    "tags": []
   },
   "outputs": [],
   "source": [
    "mediana_doçura_por_variedade = df.groupby('Índice Variety')['Brix (Sweetness)'].median()\n",
    "mediana_cor = df.groupby('Color')['Brix (Sweetness)'].median()\n",
    "colors = 'purple'"
   ]
  },
  {
   "cell_type": "code",
   "execution_count": 31,
   "metadata": {
    "tags": []
   },
   "outputs": [
    {
     "data": {
      "image/png": "[encoded data removed]",
      "text/plain": [
       "<Figure size 1800x400 with 2 Axes>"
      ]
     },
     "metadata": {},
     "output_type": "display_data"
    }
   ],
   "source": [
    "fig, axs = plt.subplots(1,2,figsize = (18,4))\n",
    "fig.set_facecolor('#E6E6FA')\n",
    "\n",
    "\n",
    "mediana_doçura_por_variedade.plot(kind='bar', ax =  axs[0], color = colors)\n",
    "axs[0].set_title('Mediana de Doçura por Variedade')\n",
    "axs[0].set_xlabel('Variedade')\n",
    "axs[0].set_ylabel('Doçura')\n",
    "mediana_cor.plot(kind = 'bar', ax = axs[1], color = colors)\n",
    "axs[1].set_xticklabels(labels = df['Color'].unique(), ha = 'center', rotation = 0)\n",
    "axs[1].set_title('Mediana de Doçura por Cor')\n",
    "axs[1].set_xlabel('Cores')\n",
    "axs[1].set_ylabel('Doçura')\n",
    "plt.savefig('graficos_01.png', dpi= 600)\n",
    "plt.show()\n"
   ]
  },
  {
   "cell_type": "markdown",
   "metadata": {},
   "source": [
    "_Este gráfico de barra nos mostra a mediana da relação, teor de açúcar \"Brix (Sweetness)\" compara com a variedade das laranjas \"Índice Variety\"._"
   ]
  },
  {
   "cell_type": "code",
   "execution_count": 32,
   "metadata": {},
   "outputs": [
    {
     "data": {
      "image/png": "[encoded data removed]",
      "text/plain": [
       "<Figure size 640x480 with 1 Axes>"
      ]
     },
     "metadata": {},
     "output_type": "display_data"
    }
   ],
   "source": [
    "sns.lineplot( data = df, x = 'HarvestTime (days)', y = 'Quality (1-5)', color = colors)\n",
    "plt.savefig('graficos_03.png', dpi = 600)\n",
    "plt.show()"
   ]
  },
  {
   "cell_type": "markdown",
   "metadata": {},
   "source": [
    "### Com isso conseguimos perceber que a variedade pode estar relacionado com nossa doçura"
   ]
  },
  {
   "cell_type": "markdown",
   "metadata": {},
   "source": [
    "<hr>"
   ]
  },
  {
   "cell_type": "markdown",
   "metadata": {},
   "source": [
    "## Contagem"
   ]
  },
  {
   "cell_type": "code",
   "execution_count": 33,
   "metadata": {
    "tags": []
   },
   "outputs": [
    {
     "data": {
      "image/png": "[encoded data removed]",
      "text/plain": [
       "<Figure size 640x480 with 1 Axes>"
      ]
     },
     "metadata": {},
     "output_type": "display_data"
    }
   ],
   "source": [
    "sns.countplot(data=df,x=\"Color\", color = colors)\n",
    "plt.title(\"Count of Oranges by Color\")  \n",
    "plt.show()"
   ]
  },
  {
   "cell_type": "markdown",
   "metadata": {},
   "source": [
    "<hr>"
   ]
  },
  {
   "cell_type": "markdown",
   "metadata": {},
   "source": [
    "## Histogramas"
   ]
  },
  {
   "cell_type": "code",
   "execution_count": 34,
   "metadata": {
    "tags": []
   },
   "outputs": [
    {
     "data": {
      "image/png": "[encoded data removed]",
      "text/plain": [
       "<Figure size 800x600 with 1 Axes>"
      ]
     },
     "metadata": {},
     "output_type": "display_data"
    }
   ],
   "source": [
    "plt.figure(figsize=(8, 6))\n",
    "sns.histplot(df[\"pH (Acidity)\"], bins=10, kde=True, color = colors)\n",
    "plt.title(\"Distribuição do pH\")\n",
    "plt.xlabel(\"pH\")\n",
    "plt.show()"
   ]
  },
  {
   "cell_type": "markdown",
   "metadata": {},
   "source": [
    "_O histograma acima nos mostrando a distribuição da contagem das laranjas em relação a acidez da laranja \"pH (Acidity)\"._"
   ]
  },
  {
   "cell_type": "markdown",
   "metadata": {},
   "source": [
    "### Percebemos o caratér ácido da laranja, com alta frequência de pH entre 3.0 e e 3.8"
   ]
  },
  {
   "cell_type": "code",
   "execution_count": 35,
   "metadata": {
    "tags": []
   },
   "outputs": [
    {
     "data": {
      "image/png": "[encoded data removed]",
      "text/plain": [
       "<Figure size 800x600 with 1 Axes>"
      ]
     },
     "metadata": {},
     "output_type": "display_data"
    }
   ],
   "source": [
    "plt.figure(figsize=(8, 6))\n",
    "sns.histplot(df[\"Brix (Sweetness)\"], bins=10, kde=True, color = colors)\n",
    "plt.title(\"Distribuição do teor de açúcar\")\n",
    "plt.xlabel(\"Brix\")\n",
    "plt.show()"
   ]
  },
  {
   "cell_type": "markdown",
   "metadata": {},
   "source": [
    "_O histograma acima nos mostrando a distribuição da contagem das laranjas em relação ao teor de açúcar das laranjas \"Brix (Sweetness)\"._"
   ]
  },
  {
   "cell_type": "markdown",
   "metadata": {},
   "source": [
    "<hr>"
   ]
  },
  {
   "cell_type": "markdown",
   "metadata": {
    "tags": []
   },
   "source": [
    "## Dados comparativos"
   ]
  },
  {
   "cell_type": "code",
   "execution_count": 36,
   "metadata": {
    "tags": []
   },
   "outputs": [
    {
     "data": {
      "image/png": "[encoded data removed]",
      "text/plain": [
       "<Figure size 640x480 with 1 Axes>"
      ]
     },
     "metadata": {},
     "output_type": "display_data"
    }
   ],
   "source": [
    "df.groupby(pd.cut(df['Brix (Sweetness)'], bins=10))['Quality (1-5)'].mean().plot(kind='bar', color = colors)\n",
    "plt.title('Gráfico de Doçura X Qualidade')\n",
    "plt.ylabel('Qualidade')\n",
    "plt.show()"
   ]
  },
  {
   "cell_type": "markdown",
   "metadata": {},
   "source": [
    "_O gráfico de barra acima nos mostra como a média da qualidade da laranja \"Quality (1-5)\" varia de acordo com o teor de açúcar \"Brix (Sweetness)\"._"
   ]
  },
  {
   "cell_type": "code",
   "execution_count": 37,
   "metadata": {
    "tags": []
   },
   "outputs": [
    {
     "data": {
      "image/png": "[encoded data removed]",
      "text/plain": [
       "<Figure size 640x480 with 1 Axes>"
      ]
     },
     "metadata": {},
     "output_type": "display_data"
    }
   ],
   "source": [
    "df.groupby(pd.cut(df['Size (cm)'], bins=5))['Brix (Sweetness)'].mean().plot(kind='bar', color = colors)\n",
    "plt.show()"
   ]
  },
  {
   "cell_type": "markdown",
   "metadata": {},
   "source": [
    "_O gráfico de barra acima nos mostra como a média do teor de açucar da laranja \"Brix (Sweetness)\" varia de acordo com o tamanho da laranja \"Size (cm)\"._"
   ]
  },
  {
   "cell_type": "code",
   "execution_count": 38,
   "metadata": {
    "tags": []
   },
   "outputs": [
    {
     "data": {
      "image/png": "[encoded data removed]",
      "text/plain": [
       "<Figure size 640x480 with 1 Axes>"
      ]
     },
     "metadata": {},
     "output_type": "display_data"
    }
   ],
   "source": [
    "df.groupby(pd.cut(df['Brix (Sweetness)'], bins=10))['Ripeness (1-5)'].mean().plot(kind='bar', color = colors)\n",
    "plt.show()"
   ]
  },
  {
   "cell_type": "markdown",
   "metadata": {},
   "source": [
    "_O gráfico de barra acima nos mostra como a média do teor de açucar da laranja \"Brix (Sweetness)\" varia de acordo com a maturação da laranja \"Ripeness (1-5)\"._"
   ]
  },
  {
   "cell_type": "code",
   "execution_count": 39,
   "metadata": {
    "tags": []
   },
   "outputs": [
    {
     "data": {
      "image/png": "[encoded data removed]",
      "text/plain": [
       "<Figure size 640x480 with 1 Axes>"
      ]
     },
     "metadata": {},
     "output_type": "display_data"
    }
   ],
   "source": [
    "df.groupby(pd.cut(df['Brix (Sweetness)'], bins=10))['pH (Acidity)'].mean().plot(kind='bar', color = colors)\n",
    "plt.show()"
   ]
  },
  {
   "cell_type": "markdown",
   "metadata": {},
   "source": [
    "_O gráfico de barra acima nos mostra como a média do teor de açucar da laranja \"Brix (Sweetness)\" varia de acordo com a acidez da laranja \"pH (Acidity)\"._"
   ]
  },
  {
   "cell_type": "markdown",
   "metadata": {},
   "source": [
    "<hr>"
   ]
  },
  {
   "cell_type": "markdown",
   "metadata": {},
   "source": [
    "## Analises secundárias:"
   ]
  },
  {
   "cell_type": "code",
   "execution_count": 40,
   "metadata": {},
   "outputs": [
    {
     "data": {
      "image/png": "[encoded data removed]",
      "text/plain": [
       "<Figure size 640x480 with 1 Axes>"
      ]
     },
     "metadata": {},
     "output_type": "display_data"
    }
   ],
   "source": [
    "sns.barplot( data =df, x = \"Quality (1-5)\", y = \"HarvestTime (days)\", color = colors)\n",
    "plt.show()"
   ]
  },
  {
   "cell_type": "code",
   "execution_count": 41,
   "metadata": {},
   "outputs": [
    {
     "data": {
      "image/png": "[encoded data removed]",
      "text/plain": [
       "<Figure size 1800x500 with 1 Axes>"
      ]
     },
     "metadata": {},
     "output_type": "display_data"
    }
   ],
   "source": [
    "fig = plt.subplots(figsize= (18,5))\n",
    "sns.boxplot( data = df,y ='Brix (Sweetness)' , hue = 'Variety', color = colors)\n",
    "plt.title('Doçura por Variedade')\n",
    "plt.show()"
   ]
  },
  {
   "cell_type": "code",
   "execution_count": 42,
   "metadata": {},
   "outputs": [
    {
     "data": {
      "image/png": "[encoded data removed]",
      "text/plain": [
       "<Figure size 640x480 with 1 Axes>"
      ]
     },
     "metadata": {},
     "output_type": "display_data"
    }
   ],
   "source": [
    "sns.boxplot( data = df,y ='Brix (Sweetness)' , hue = 'Color', color = colors)\n",
    "plt.title('Doçura por Cor')\n",
    "plt.savefig('graficos_02.png', dpi = 600)\n",
    "plt.show()"
   ]
  },
  {
   "cell_type": "code",
   "execution_count": 43,
   "metadata": {},
   "outputs": [
    {
     "data": {
      "text/plain": [
       "<Axes: xlabel='Blemishes (Y/N)', ylabel='Quality (1-5)'>"
      ]
     },
     "execution_count": 43,
     "metadata": {},
     "output_type": "execute_result"
    },
    {
     "data": {
      "image/png": "[encoded data removed]",
      "text/plain": [
       "<Figure size 2200x400 with 1 Axes>"
      ]
     },
     "metadata": {},
     "output_type": "display_data"
    }
   ],
   "source": [
    "fig = plt.subplots(figsize = (22,4))\n",
    "sns.barplot(data = df, x ='Blemishes (Y/N)', y = 'Quality (1-5)', color = colors)"
   ]
  },
  {
   "cell_type": "markdown",
   "metadata": {},
   "source": [
    "<h1> Percebemos: </h1>\n",
    "<ul>\n",
    "    <li>É perceptivel uma relação entre Brix e Quality</li>\n",
    "    <li> Relação entre grupos de variedade e Brix</li>\n",
    "    <li>Quanto menor o tempo de colheita, menor a qualidade</li>\n",
    "    <li>Deep Orange tem os melhores resultados de qualidade e geral</li>\n",
    "    <li> As marcas não fazem muuita diferença na nossa análise</li>\n",
    "</ul>"
   ]
  },
  {
   "cell_type": "markdown",
   "metadata": {},
   "source": [
    "<hr>"
   ]
  },
  {
   "cell_type": "markdown",
   "metadata": {},
   "source": [
    "## Correlações:"
   ]
  },
  {
   "cell_type": "code",
   "execution_count": 44,
   "metadata": {},
   "outputs": [
    {
     "name": "stdout",
     "output_type": "stream",
     "text": [
      "Coeficiente de correlação linear: 0.6488\n",
      "Coeficiente de Determinação: 0.4209\n"
     ]
    }
   ],
   "source": [
    "r = linregress(x = df['Quality (1-5)'], y = df['Brix (Sweetness)']).rvalue\n",
    "print(f'Coeficiente de correlação linear: {r.round(4)}')\n",
    "print(f'Coeficiente de Determinação: {(r**2).round(4)}')"
   ]
  },
  {
   "cell_type": "code",
   "execution_count": 45,
   "metadata": {},
   "outputs": [
    {
     "data": {
      "image/png": "[encoded data removed]",
      "text/plain": [
       "<Figure size 1000x800 with 2 Axes>"
      ]
     },
     "metadata": {},
     "output_type": "display_data"
    }
   ],
   "source": [
    "numerical_columns = df.select_dtypes(include='number')\n",
    "correlation_matrix = numerical_columns.corr()\n",
    "plt.figure(figsize=(10, 8))\n",
    "sns.heatmap(correlation_matrix, annot=True, cmap='coolwarm', fmt=\".2f\", square=True)\n",
    "plt.title('Correlation Matrix of Numerical Columns')\n",
    "plt.show()"
   ]
  },
  {
   "cell_type": "markdown",
   "metadata": {},
   "source": [
    "<hr>"
   ]
  },
  {
   "cell_type": "markdown",
   "metadata": {
    "tags": []
   },
   "source": [
    "## 2. Perguntas de partida e hipóteses"
   ]
  },
  {
   "cell_type": "markdown",
   "metadata": {},
   "source": [
    "<ul>\n",
    "    <li>O quanto está relacionado Doçura e a Qualidade?</li>\n",
    "    <li>Como se distribui a doçura entre as variedades? Há variedades mais doces que outras?</li>\n",
    "    <li>Como se distribui a qualidade entre as cores? Há cores com mais qualidade do que outras?</li>\n",
    "    <li>O que torna a fruta mais doce?</li>\n",
    "</ul>"
   ]
  },
  {
   "cell_type": "markdown",
   "metadata": {
    "tags": []
   },
   "source": [
    "## 3. Insights"
   ]
  },
  {
   "cell_type": "markdown",
   "metadata": {},
   "source": [
    "<ul>\n",
    "    <li>A qualidade da Laranja está diretamente proporicional a sua doçura.</li>\n",
    "    <li>Talvez tenha alguma relação entre a maturação e a doçura, segundo o gráfico que correlaciona as 2 colunas.</li>\n",
    "    <li>É perceptivel uma relação entre Brix e Quality</li>\n",
    "    <li> Relação entre grupos de variedade e Brix</li>\n",
    "    <li>Quanto maior o tempo de colheita, menor a qualidade</li>\n",
    "    <li>Deep Orange tem os melhores resultados de qualidade e geral</li>\n",
    "    <li> As manchas não fazem muita diferença na nossa análise</li>\n",
    "</ul>"
   ]
  },
  {
   "cell_type": "code",
   "execution_count": null,
   "metadata": {},
   "outputs": [],
   "source": []
  }
 ],
 "metadata": {
  "kernelspec": {
   "display_name": "Python 3 (ipykernel)",
   "language": "python",
   "name": "python3"
  },
  "language_info": {
   "codemirror_mode": {
    "name": "ipython",
    "version": 3
   },
   "file_extension": ".py",
   "mimetype": "text/x-python",
   "name": "python",
   "nbconvert_exporter": "python",
   "pygments_lexer": "ipython3",
   "version": "3.10.14"
  },
  "vscode": {
   "interpreter": {
    "hash": "eb3c3305d8b111f0102f4f519c5f17abd113fe74db6752c355e994a9008815ef"
   }
  }
 },
 "nbformat": 4,
 "nbformat_minor": 4
}
